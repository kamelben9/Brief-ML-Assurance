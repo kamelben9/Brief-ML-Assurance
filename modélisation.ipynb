{
 "cells": [
  {
   "cell_type": "code",
   "execution_count": 1167,
   "metadata": {},
   "outputs": [],
   "source": [
    "import pandas as pd\n",
    "import matplotlib.pyplot as plt\n",
    "import seaborn as sns\n",
    "import numpy as np\n",
    "from sklearn import model_selection\n",
    "from sklearn.linear_model import LinearRegression, Lasso, ElasticNet, Ridge\n",
    "from sklearn.model_selection import train_test_split, cross_val_score, KFold, ShuffleSplit, GridSearchCV, RandomizedSearchCV, learning_curve\n",
    "from sklearn.dummy import DummyRegressor\n",
    "from sklearn.preprocessing import OneHotEncoder, MinMaxScaler, StandardScaler, PolynomialFeatures\n",
    "from sklearn.pipeline import make_pipeline\n",
    "from sklearn.compose import ColumnTransformer, make_column_transformer"
   ]
  },
  {
   "cell_type": "markdown",
   "metadata": {},
   "source": [
    "# Modélisation"
   ]
  },
  {
   "cell_type": "code",
   "execution_count": 1168,
   "metadata": {},
   "outputs": [
    {
     "data": {
      "text/html": [
       "<div>\n",
       "<style scoped>\n",
       "    .dataframe tbody tr th:only-of-type {\n",
       "        vertical-align: middle;\n",
       "    }\n",
       "\n",
       "    .dataframe tbody tr th {\n",
       "        vertical-align: top;\n",
       "    }\n",
       "\n",
       "    .dataframe thead th {\n",
       "        text-align: right;\n",
       "    }\n",
       "</style>\n",
       "<table border=\"1\" class=\"dataframe\">\n",
       "  <thead>\n",
       "    <tr style=\"text-align: right;\">\n",
       "      <th></th>\n",
       "      <th>age</th>\n",
       "      <th>sex</th>\n",
       "      <th>bmi</th>\n",
       "      <th>children</th>\n",
       "      <th>smoker</th>\n",
       "      <th>region</th>\n",
       "      <th>charges</th>\n",
       "    </tr>\n",
       "  </thead>\n",
       "  <tbody>\n",
       "    <tr>\n",
       "      <th>0</th>\n",
       "      <td>19</td>\n",
       "      <td>female</td>\n",
       "      <td>27.900</td>\n",
       "      <td>0</td>\n",
       "      <td>yes</td>\n",
       "      <td>southwest</td>\n",
       "      <td>16884.92400</td>\n",
       "    </tr>\n",
       "    <tr>\n",
       "      <th>1</th>\n",
       "      <td>18</td>\n",
       "      <td>male</td>\n",
       "      <td>33.770</td>\n",
       "      <td>1</td>\n",
       "      <td>no</td>\n",
       "      <td>southeast</td>\n",
       "      <td>1725.55230</td>\n",
       "    </tr>\n",
       "    <tr>\n",
       "      <th>2</th>\n",
       "      <td>28</td>\n",
       "      <td>male</td>\n",
       "      <td>33.000</td>\n",
       "      <td>3</td>\n",
       "      <td>no</td>\n",
       "      <td>southeast</td>\n",
       "      <td>4449.46200</td>\n",
       "    </tr>\n",
       "    <tr>\n",
       "      <th>3</th>\n",
       "      <td>33</td>\n",
       "      <td>male</td>\n",
       "      <td>22.705</td>\n",
       "      <td>0</td>\n",
       "      <td>no</td>\n",
       "      <td>northwest</td>\n",
       "      <td>21984.47061</td>\n",
       "    </tr>\n",
       "    <tr>\n",
       "      <th>4</th>\n",
       "      <td>32</td>\n",
       "      <td>male</td>\n",
       "      <td>28.880</td>\n",
       "      <td>0</td>\n",
       "      <td>no</td>\n",
       "      <td>northwest</td>\n",
       "      <td>3866.85520</td>\n",
       "    </tr>\n",
       "    <tr>\n",
       "      <th>...</th>\n",
       "      <td>...</td>\n",
       "      <td>...</td>\n",
       "      <td>...</td>\n",
       "      <td>...</td>\n",
       "      <td>...</td>\n",
       "      <td>...</td>\n",
       "      <td>...</td>\n",
       "    </tr>\n",
       "    <tr>\n",
       "      <th>1332</th>\n",
       "      <td>50</td>\n",
       "      <td>male</td>\n",
       "      <td>30.970</td>\n",
       "      <td>3</td>\n",
       "      <td>no</td>\n",
       "      <td>northwest</td>\n",
       "      <td>10600.54830</td>\n",
       "    </tr>\n",
       "    <tr>\n",
       "      <th>1333</th>\n",
       "      <td>18</td>\n",
       "      <td>female</td>\n",
       "      <td>31.920</td>\n",
       "      <td>0</td>\n",
       "      <td>no</td>\n",
       "      <td>northeast</td>\n",
       "      <td>2205.98080</td>\n",
       "    </tr>\n",
       "    <tr>\n",
       "      <th>1334</th>\n",
       "      <td>18</td>\n",
       "      <td>female</td>\n",
       "      <td>36.850</td>\n",
       "      <td>0</td>\n",
       "      <td>no</td>\n",
       "      <td>southeast</td>\n",
       "      <td>1629.83350</td>\n",
       "    </tr>\n",
       "    <tr>\n",
       "      <th>1335</th>\n",
       "      <td>21</td>\n",
       "      <td>female</td>\n",
       "      <td>25.800</td>\n",
       "      <td>0</td>\n",
       "      <td>no</td>\n",
       "      <td>southwest</td>\n",
       "      <td>2007.94500</td>\n",
       "    </tr>\n",
       "    <tr>\n",
       "      <th>1336</th>\n",
       "      <td>61</td>\n",
       "      <td>female</td>\n",
       "      <td>29.070</td>\n",
       "      <td>0</td>\n",
       "      <td>yes</td>\n",
       "      <td>northwest</td>\n",
       "      <td>29141.36030</td>\n",
       "    </tr>\n",
       "  </tbody>\n",
       "</table>\n",
       "<p>1337 rows × 7 columns</p>\n",
       "</div>"
      ],
      "text/plain": [
       "      age     sex     bmi  children smoker     region      charges\n",
       "0      19  female  27.900         0    yes  southwest  16884.92400\n",
       "1      18    male  33.770         1     no  southeast   1725.55230\n",
       "2      28    male  33.000         3     no  southeast   4449.46200\n",
       "3      33    male  22.705         0     no  northwest  21984.47061\n",
       "4      32    male  28.880         0     no  northwest   3866.85520\n",
       "...   ...     ...     ...       ...    ...        ...          ...\n",
       "1332   50    male  30.970         3     no  northwest  10600.54830\n",
       "1333   18  female  31.920         0     no  northeast   2205.98080\n",
       "1334   18  female  36.850         0     no  southeast   1629.83350\n",
       "1335   21  female  25.800         0     no  southwest   2007.94500\n",
       "1336   61  female  29.070         0    yes  northwest  29141.36030\n",
       "\n",
       "[1337 rows x 7 columns]"
      ]
     },
     "execution_count": 1168,
     "metadata": {},
     "output_type": "execute_result"
    }
   ],
   "source": [
    "df = pd.read_csv('dataset_clean.csv')\n",
    "df\n"
   ]
  },
  {
   "cell_type": "code",
   "execution_count": 1169,
   "metadata": {},
   "outputs": [
    {
     "name": "stdout",
     "output_type": "stream",
     "text": [
      "<class 'pandas.core.frame.DataFrame'>\n",
      "RangeIndex: 1337 entries, 0 to 1336\n",
      "Data columns (total 7 columns):\n",
      " #   Column    Non-Null Count  Dtype  \n",
      "---  ------    --------------  -----  \n",
      " 0   age       1337 non-null   int64  \n",
      " 1   sex       1337 non-null   object \n",
      " 2   bmi       1337 non-null   float64\n",
      " 3   children  1337 non-null   int64  \n",
      " 4   smoker    1337 non-null   object \n",
      " 5   region    1337 non-null   object \n",
      " 6   charges   1337 non-null   float64\n",
      "dtypes: float64(2), int64(2), object(3)\n",
      "memory usage: 73.2+ KB\n"
     ]
    }
   ],
   "source": [
    "df.info()"
   ]
  },
  {
   "cell_type": "code",
   "execution_count": 1170,
   "metadata": {},
   "outputs": [
    {
     "name": "stderr",
     "output_type": "stream",
     "text": [
      "/tmp/ipykernel_50265/2806792165.py:1: FutureWarning: The default value of numeric_only in DataFrame.corrwith is deprecated. In a future version, it will default to False. Select only valid columns or specify the value of numeric_only to silence this warning.\n",
      "  df.corrwith(df.charges)\n"
     ]
    },
    {
     "data": {
      "text/plain": [
       "age         0.298308\n",
       "bmi         0.198401\n",
       "children    0.067389\n",
       "charges     1.000000\n",
       "dtype: float64"
      ]
     },
     "execution_count": 1170,
     "metadata": {},
     "output_type": "execute_result"
    }
   ],
   "source": [
    "df.corrwith(df.charges)"
   ]
  },
  {
   "cell_type": "code",
   "execution_count": 1171,
   "metadata": {},
   "outputs": [
    {
     "data": {
      "text/plain": [
       "-0.0010185684988295307"
      ]
     },
     "execution_count": 1171,
     "metadata": {},
     "output_type": "execute_result"
    }
   ],
   "source": [
    "X = df.drop('charges', axis=1)\n",
    "y = df['charges']\n",
    "X_train, X_test, y_train, y_test = train_test_split(X, y, shuffle=True, train_size=0.8, random_state=42, stratify=X['smoker'])\n",
    "dummy = DummyRegressor()\n",
    "X_train.head()\n",
    "dummy.fit(X_train, y_train)\n",
    "dummy.score(X_test, y_test)\n",
    "\n"
   ]
  },
  {
   "cell_type": "code",
   "execution_count": 1172,
   "metadata": {},
   "outputs": [
    {
     "name": "stdout",
     "output_type": "stream",
     "text": [
      "Train set: (1069, 6)\n",
      "Test set: (268, 6)\n"
     ]
    }
   ],
   "source": [
    "print('Train set:', X_train.shape)\n",
    "print('Test set:', X_test.shape)"
   ]
  },
  {
   "cell_type": "code",
   "execution_count": 1173,
   "metadata": {},
   "outputs": [
    {
     "data": {
      "text/plain": [
       "Index(['age', 'sex', 'bmi', 'children', 'smoker', 'region'], dtype='object')"
      ]
     },
     "execution_count": 1173,
     "metadata": {},
     "output_type": "execute_result"
    }
   ],
   "source": [
    "X.columns"
   ]
  },
  {
   "cell_type": "markdown",
   "metadata": {},
   "source": [
    "### Pipeline"
   ]
  },
  {
   "cell_type": "code",
   "execution_count": 1174,
   "metadata": {},
   "outputs": [],
   "source": [
    "# Séparation des colonnes numériques et catégorielles\n",
    "num_col = [\"age\", \"bmi\", \"children\"]\n",
    "cat_col = [\"sex\", \"smoker\", \"region\"]"
   ]
  },
  {
   "cell_type": "code",
   "execution_count": 1175,
   "metadata": {},
   "outputs": [],
   "source": [
    "# Création de pipelines\n",
    "num_pipeline = make_pipeline(StandardScaler())\n",
    "cat_pipeline = make_pipeline(OneHotEncoder())\n"
   ]
  },
  {
   "cell_type": "code",
   "execution_count": 1176,
   "metadata": {},
   "outputs": [],
   "source": [
    "# Création d'un Préprocessor pour appliquer les pipelines crées pour les transfomations sur les colonnes\n",
    "preprocessing = make_column_transformer((num_pipeline, num_col),\n",
    "                (cat_pipeline, cat_col))\n",
    "preprocessing = make_pipeline(preprocessing, PolynomialFeatures())"
   ]
  },
  {
   "cell_type": "markdown",
   "metadata": {},
   "source": [
    "### Regression Linéaire"
   ]
  },
  {
   "cell_type": "code",
   "execution_count": 1204,
   "metadata": {},
   "outputs": [
    {
     "data": {
      "text/plain": [
       "0.8809848837694316"
      ]
     },
     "execution_count": 1204,
     "metadata": {},
     "output_type": "execute_result"
    }
   ],
   "source": [
    "# Modèle de Regression Linéaire\n",
    "\n",
    "\n",
    "model_lr= make_pipeline(preprocessing, LinearRegression())\n",
    "\n",
    "model_lr.fit(X_train,y_train)\n",
    "cross_val_score(model_lr, X_train, y_train, cv=5).mean()"
   ]
  },
  {
   "cell_type": "markdown",
   "metadata": {},
   "source": [
    "### Elastic Net (Lasso/Ridge)"
   ]
  },
  {
   "cell_type": "code",
   "execution_count": 1178,
   "metadata": {},
   "outputs": [
    {
     "data": {
      "text/plain": [
       "{'memory': None,\n",
       " 'steps': [('pipeline', Pipeline(steps=[('columntransformer',\n",
       "                    ColumnTransformer(transformers=[('pipeline-1',\n",
       "                                                     Pipeline(steps=[('standardscaler',\n",
       "                                                                      StandardScaler())]),\n",
       "                                                     ['age', 'bmi', 'children']),\n",
       "                                                    ('pipeline-2',\n",
       "                                                     Pipeline(steps=[('onehotencoder',\n",
       "                                                                      OneHotEncoder())]),\n",
       "                                                     ['sex', 'smoker',\n",
       "                                                      'region'])])),\n",
       "                   ('polynomialfeatures', PolynomialFeatures())])),\n",
       "  ('elasticnet', ElasticNet())],\n",
       " 'verbose': False,\n",
       " 'pipeline': Pipeline(steps=[('columntransformer',\n",
       "                  ColumnTransformer(transformers=[('pipeline-1',\n",
       "                                                   Pipeline(steps=[('standardscaler',\n",
       "                                                                    StandardScaler())]),\n",
       "                                                   ['age', 'bmi', 'children']),\n",
       "                                                  ('pipeline-2',\n",
       "                                                   Pipeline(steps=[('onehotencoder',\n",
       "                                                                    OneHotEncoder())]),\n",
       "                                                   ['sex', 'smoker',\n",
       "                                                    'region'])])),\n",
       "                 ('polynomialfeatures', PolynomialFeatures())]),\n",
       " 'elasticnet': ElasticNet(),\n",
       " 'pipeline__memory': None,\n",
       " 'pipeline__steps': [('columntransformer',\n",
       "   ColumnTransformer(transformers=[('pipeline-1',\n",
       "                                    Pipeline(steps=[('standardscaler',\n",
       "                                                     StandardScaler())]),\n",
       "                                    ['age', 'bmi', 'children']),\n",
       "                                   ('pipeline-2',\n",
       "                                    Pipeline(steps=[('onehotencoder',\n",
       "                                                     OneHotEncoder())]),\n",
       "                                    ['sex', 'smoker', 'region'])])),\n",
       "  ('polynomialfeatures', PolynomialFeatures())],\n",
       " 'pipeline__verbose': False,\n",
       " 'pipeline__columntransformer': ColumnTransformer(transformers=[('pipeline-1',\n",
       "                                  Pipeline(steps=[('standardscaler',\n",
       "                                                   StandardScaler())]),\n",
       "                                  ['age', 'bmi', 'children']),\n",
       "                                 ('pipeline-2',\n",
       "                                  Pipeline(steps=[('onehotencoder',\n",
       "                                                   OneHotEncoder())]),\n",
       "                                  ['sex', 'smoker', 'region'])]),\n",
       " 'pipeline__polynomialfeatures': PolynomialFeatures(),\n",
       " 'pipeline__columntransformer__n_jobs': None,\n",
       " 'pipeline__columntransformer__remainder': 'drop',\n",
       " 'pipeline__columntransformer__sparse_threshold': 0.3,\n",
       " 'pipeline__columntransformer__transformer_weights': None,\n",
       " 'pipeline__columntransformer__transformers': [('pipeline-1',\n",
       "   Pipeline(steps=[('standardscaler', StandardScaler())]),\n",
       "   ['age', 'bmi', 'children']),\n",
       "  ('pipeline-2',\n",
       "   Pipeline(steps=[('onehotencoder', OneHotEncoder())]),\n",
       "   ['sex', 'smoker', 'region'])],\n",
       " 'pipeline__columntransformer__verbose': False,\n",
       " 'pipeline__columntransformer__verbose_feature_names_out': True,\n",
       " 'pipeline__columntransformer__pipeline-1': Pipeline(steps=[('standardscaler', StandardScaler())]),\n",
       " 'pipeline__columntransformer__pipeline-2': Pipeline(steps=[('onehotencoder', OneHotEncoder())]),\n",
       " 'pipeline__columntransformer__pipeline-1__memory': None,\n",
       " 'pipeline__columntransformer__pipeline-1__steps': [('standardscaler',\n",
       "   StandardScaler())],\n",
       " 'pipeline__columntransformer__pipeline-1__verbose': False,\n",
       " 'pipeline__columntransformer__pipeline-1__standardscaler': StandardScaler(),\n",
       " 'pipeline__columntransformer__pipeline-1__standardscaler__copy': True,\n",
       " 'pipeline__columntransformer__pipeline-1__standardscaler__with_mean': True,\n",
       " 'pipeline__columntransformer__pipeline-1__standardscaler__with_std': True,\n",
       " 'pipeline__columntransformer__pipeline-2__memory': None,\n",
       " 'pipeline__columntransformer__pipeline-2__steps': [('onehotencoder',\n",
       "   OneHotEncoder())],\n",
       " 'pipeline__columntransformer__pipeline-2__verbose': False,\n",
       " 'pipeline__columntransformer__pipeline-2__onehotencoder': OneHotEncoder(),\n",
       " 'pipeline__columntransformer__pipeline-2__onehotencoder__categories': 'auto',\n",
       " 'pipeline__columntransformer__pipeline-2__onehotencoder__drop': None,\n",
       " 'pipeline__columntransformer__pipeline-2__onehotencoder__dtype': numpy.float64,\n",
       " 'pipeline__columntransformer__pipeline-2__onehotencoder__handle_unknown': 'error',\n",
       " 'pipeline__columntransformer__pipeline-2__onehotencoder__max_categories': None,\n",
       " 'pipeline__columntransformer__pipeline-2__onehotencoder__min_frequency': None,\n",
       " 'pipeline__columntransformer__pipeline-2__onehotencoder__sparse': 'deprecated',\n",
       " 'pipeline__columntransformer__pipeline-2__onehotencoder__sparse_output': True,\n",
       " 'pipeline__polynomialfeatures__degree': 2,\n",
       " 'pipeline__polynomialfeatures__include_bias': True,\n",
       " 'pipeline__polynomialfeatures__interaction_only': False,\n",
       " 'pipeline__polynomialfeatures__order': 'C',\n",
       " 'elasticnet__alpha': 1.0,\n",
       " 'elasticnet__copy_X': True,\n",
       " 'elasticnet__fit_intercept': True,\n",
       " 'elasticnet__l1_ratio': 0.5,\n",
       " 'elasticnet__max_iter': 1000,\n",
       " 'elasticnet__positive': False,\n",
       " 'elasticnet__precompute': False,\n",
       " 'elasticnet__random_state': None,\n",
       " 'elasticnet__selection': 'cyclic',\n",
       " 'elasticnet__tol': 0.0001,\n",
       " 'elasticnet__warm_start': False}"
      ]
     },
     "execution_count": 1178,
     "metadata": {},
     "output_type": "execute_result"
    }
   ],
   "source": [
    "# Définir les hyperparamètres à tester avec le grid search\n",
    "elastic_net = ElasticNet()\n",
    "pipe_el = make_pipeline(preprocessing, elastic_net)\n",
    "\n",
    "pipe_el.get_params()"
   ]
  },
  {
   "cell_type": "code",
   "execution_count": 1179,
   "metadata": {},
   "outputs": [
    {
     "name": "stderr",
     "output_type": "stream",
     "text": [
      "/home/apprenant/miniconda3/envs/data_anayse_env/lib/python3.9/site-packages/sklearn/linear_model/_coordinate_descent.py:634: ConvergenceWarning: Objective did not converge. You might want to increase the number of iterations, check the scale of the features or consider increasing regularisation. Duality gap: 5.217e+08, tolerance: 1.260e+07\n",
      "  model = cd_fast.enet_coordinate_descent(\n",
      "/home/apprenant/miniconda3/envs/data_anayse_env/lib/python3.9/site-packages/sklearn/linear_model/_coordinate_descent.py:634: ConvergenceWarning: Objective did not converge. You might want to increase the number of iterations, check the scale of the features or consider increasing regularisation. Duality gap: 5.121e+08, tolerance: 1.289e+07\n",
      "  model = cd_fast.enet_coordinate_descent(\n",
      "/home/apprenant/miniconda3/envs/data_anayse_env/lib/python3.9/site-packages/sklearn/linear_model/_coordinate_descent.py:634: ConvergenceWarning: Objective did not converge. You might want to increase the number of iterations, check the scale of the features or consider increasing regularisation. Duality gap: 5.133e+08, tolerance: 1.283e+07\n",
      "  model = cd_fast.enet_coordinate_descent(\n",
      "/home/apprenant/miniconda3/envs/data_anayse_env/lib/python3.9/site-packages/sklearn/linear_model/_coordinate_descent.py:634: ConvergenceWarning: Objective did not converge. You might want to increase the number of iterations, check the scale of the features or consider increasing regularisation. Duality gap: 4.282e+09, tolerance: 1.260e+07\n",
      "  model = cd_fast.enet_coordinate_descent(\n",
      "/home/apprenant/miniconda3/envs/data_anayse_env/lib/python3.9/site-packages/sklearn/linear_model/_coordinate_descent.py:634: ConvergenceWarning: Objective did not converge. You might want to increase the number of iterations, check the scale of the features or consider increasing regularisation. Duality gap: 2.409e+09, tolerance: 1.289e+07\n",
      "  model = cd_fast.enet_coordinate_descent(\n",
      "/home/apprenant/miniconda3/envs/data_anayse_env/lib/python3.9/site-packages/sklearn/linear_model/_coordinate_descent.py:634: ConvergenceWarning: Objective did not converge. You might want to increase the number of iterations, check the scale of the features or consider increasing regularisation. Duality gap: 2.942e+09, tolerance: 1.283e+07\n",
      "  model = cd_fast.enet_coordinate_descent(\n",
      "/home/apprenant/miniconda3/envs/data_anayse_env/lib/python3.9/site-packages/sklearn/linear_model/_coordinate_descent.py:634: ConvergenceWarning: Objective did not converge. You might want to increase the number of iterations, check the scale of the features or consider increasing regularisation. Duality gap: 2.273e+09, tolerance: 1.206e+07\n",
      "  model = cd_fast.enet_coordinate_descent(\n",
      "/home/apprenant/miniconda3/envs/data_anayse_env/lib/python3.9/site-packages/sklearn/linear_model/_coordinate_descent.py:634: ConvergenceWarning: Objective did not converge. You might want to increase the number of iterations, check the scale of the features or consider increasing regularisation. Duality gap: 2.225e+09, tolerance: 1.250e+07\n",
      "  model = cd_fast.enet_coordinate_descent(\n"
     ]
    },
    {
     "data": {
      "text/html": [
       "<style>#sk-container-id-73 {color: black;background-color: white;}#sk-container-id-73 pre{padding: 0;}#sk-container-id-73 div.sk-toggleable {background-color: white;}#sk-container-id-73 label.sk-toggleable__label {cursor: pointer;display: block;width: 100%;margin-bottom: 0;padding: 0.3em;box-sizing: border-box;text-align: center;}#sk-container-id-73 label.sk-toggleable__label-arrow:before {content: \"▸\";float: left;margin-right: 0.25em;color: #696969;}#sk-container-id-73 label.sk-toggleable__label-arrow:hover:before {color: black;}#sk-container-id-73 div.sk-estimator:hover label.sk-toggleable__label-arrow:before {color: black;}#sk-container-id-73 div.sk-toggleable__content {max-height: 0;max-width: 0;overflow: hidden;text-align: left;background-color: #f0f8ff;}#sk-container-id-73 div.sk-toggleable__content pre {margin: 0.2em;color: black;border-radius: 0.25em;background-color: #f0f8ff;}#sk-container-id-73 input.sk-toggleable__control:checked~div.sk-toggleable__content {max-height: 200px;max-width: 100%;overflow: auto;}#sk-container-id-73 input.sk-toggleable__control:checked~label.sk-toggleable__label-arrow:before {content: \"▾\";}#sk-container-id-73 div.sk-estimator input.sk-toggleable__control:checked~label.sk-toggleable__label {background-color: #d4ebff;}#sk-container-id-73 div.sk-label input.sk-toggleable__control:checked~label.sk-toggleable__label {background-color: #d4ebff;}#sk-container-id-73 input.sk-hidden--visually {border: 0;clip: rect(1px 1px 1px 1px);clip: rect(1px, 1px, 1px, 1px);height: 1px;margin: -1px;overflow: hidden;padding: 0;position: absolute;width: 1px;}#sk-container-id-73 div.sk-estimator {font-family: monospace;background-color: #f0f8ff;border: 1px dotted black;border-radius: 0.25em;box-sizing: border-box;margin-bottom: 0.5em;}#sk-container-id-73 div.sk-estimator:hover {background-color: #d4ebff;}#sk-container-id-73 div.sk-parallel-item::after {content: \"\";width: 100%;border-bottom: 1px solid gray;flex-grow: 1;}#sk-container-id-73 div.sk-label:hover label.sk-toggleable__label {background-color: #d4ebff;}#sk-container-id-73 div.sk-serial::before {content: \"\";position: absolute;border-left: 1px solid gray;box-sizing: border-box;top: 0;bottom: 0;left: 50%;z-index: 0;}#sk-container-id-73 div.sk-serial {display: flex;flex-direction: column;align-items: center;background-color: white;padding-right: 0.2em;padding-left: 0.2em;position: relative;}#sk-container-id-73 div.sk-item {position: relative;z-index: 1;}#sk-container-id-73 div.sk-parallel {display: flex;align-items: stretch;justify-content: center;background-color: white;position: relative;}#sk-container-id-73 div.sk-item::before, #sk-container-id-73 div.sk-parallel-item::before {content: \"\";position: absolute;border-left: 1px solid gray;box-sizing: border-box;top: 0;bottom: 0;left: 50%;z-index: -1;}#sk-container-id-73 div.sk-parallel-item {display: flex;flex-direction: column;z-index: 1;position: relative;background-color: white;}#sk-container-id-73 div.sk-parallel-item:first-child::after {align-self: flex-end;width: 50%;}#sk-container-id-73 div.sk-parallel-item:last-child::after {align-self: flex-start;width: 50%;}#sk-container-id-73 div.sk-parallel-item:only-child::after {width: 0;}#sk-container-id-73 div.sk-dashed-wrapped {border: 1px dashed gray;margin: 0 0.4em 0.5em 0.4em;box-sizing: border-box;padding-bottom: 0.4em;background-color: white;}#sk-container-id-73 div.sk-label label {font-family: monospace;font-weight: bold;display: inline-block;line-height: 1.2em;}#sk-container-id-73 div.sk-label-container {text-align: center;}#sk-container-id-73 div.sk-container {/* jupyter's `normalize.less` sets `[hidden] { display: none; }` but bootstrap.min.css set `[hidden] { display: none !important; }` so we also need the `!important` here to be able to override the default hidden behavior on the sphinx rendered scikit-learn.org. See: https://github.com/scikit-learn/scikit-learn/issues/21755 */display: inline-block !important;position: relative;}#sk-container-id-73 div.sk-text-repr-fallback {display: none;}</style><div id=\"sk-container-id-73\" class=\"sk-top-container\"><div class=\"sk-text-repr-fallback\"><pre>RandomizedSearchCV(cv=5,\n",
       "                   estimator=Pipeline(steps=[(&#x27;pipeline&#x27;,\n",
       "                                              Pipeline(steps=[(&#x27;columntransformer&#x27;,\n",
       "                                                               ColumnTransformer(transformers=[(&#x27;pipeline-1&#x27;,\n",
       "                                                                                                Pipeline(steps=[(&#x27;standardscaler&#x27;,\n",
       "                                                                                                                 StandardScaler())]),\n",
       "                                                                                                [&#x27;age&#x27;,\n",
       "                                                                                                 &#x27;bmi&#x27;,\n",
       "                                                                                                 &#x27;children&#x27;]),\n",
       "                                                                                               (&#x27;pipeline-2&#x27;,\n",
       "                                                                                                Pipeline(steps=[(&#x27;onehotencoder&#x27;,\n",
       "                                                                                                                 OneHotEncoder())]),\n",
       "                                                                                                [&#x27;sex&#x27;,\n",
       "                                                                                                 &#x27;smoker&#x27;,\n",
       "                                                                                                 &#x27;region&#x27;])])),\n",
       "                                                              (&#x27;polynomialfeatures&#x27;,\n",
       "                                                               Polynom...\n",
       "       9.70971e+02, 9.71972e+02, 9.72973e+02, 9.73974e+02, 9.74975e+02,\n",
       "       9.75976e+02, 9.76977e+02, 9.77978e+02, 9.78979e+02, 9.79980e+02,\n",
       "       9.80981e+02, 9.81982e+02, 9.82983e+02, 9.83984e+02, 9.84985e+02,\n",
       "       9.85986e+02, 9.86987e+02, 9.87988e+02, 9.88989e+02, 9.89990e+02,\n",
       "       9.90991e+02, 9.91992e+02, 9.92993e+02, 9.93994e+02, 9.94995e+02,\n",
       "       9.95996e+02, 9.96997e+02, 9.97998e+02, 9.98999e+02, 1.00000e+03]),\n",
       "                                        &#x27;elasticnet__l1_ratio&#x27;: [1]},\n",
       "                   random_state=42)</pre><b>In a Jupyter environment, please rerun this cell to show the HTML representation or trust the notebook. <br />On GitHub, the HTML representation is unable to render, please try loading this page with nbviewer.org.</b></div><div class=\"sk-container\" hidden><div class=\"sk-item sk-dashed-wrapped\"><div class=\"sk-label-container\"><div class=\"sk-label sk-toggleable\"><input class=\"sk-toggleable__control sk-hidden--visually\" id=\"sk-estimator-id-658\" type=\"checkbox\" ><label for=\"sk-estimator-id-658\" class=\"sk-toggleable__label sk-toggleable__label-arrow\">RandomizedSearchCV</label><div class=\"sk-toggleable__content\"><pre>RandomizedSearchCV(cv=5,\n",
       "                   estimator=Pipeline(steps=[(&#x27;pipeline&#x27;,\n",
       "                                              Pipeline(steps=[(&#x27;columntransformer&#x27;,\n",
       "                                                               ColumnTransformer(transformers=[(&#x27;pipeline-1&#x27;,\n",
       "                                                                                                Pipeline(steps=[(&#x27;standardscaler&#x27;,\n",
       "                                                                                                                 StandardScaler())]),\n",
       "                                                                                                [&#x27;age&#x27;,\n",
       "                                                                                                 &#x27;bmi&#x27;,\n",
       "                                                                                                 &#x27;children&#x27;]),\n",
       "                                                                                               (&#x27;pipeline-2&#x27;,\n",
       "                                                                                                Pipeline(steps=[(&#x27;onehotencoder&#x27;,\n",
       "                                                                                                                 OneHotEncoder())]),\n",
       "                                                                                                [&#x27;sex&#x27;,\n",
       "                                                                                                 &#x27;smoker&#x27;,\n",
       "                                                                                                 &#x27;region&#x27;])])),\n",
       "                                                              (&#x27;polynomialfeatures&#x27;,\n",
       "                                                               Polynom...\n",
       "       9.70971e+02, 9.71972e+02, 9.72973e+02, 9.73974e+02, 9.74975e+02,\n",
       "       9.75976e+02, 9.76977e+02, 9.77978e+02, 9.78979e+02, 9.79980e+02,\n",
       "       9.80981e+02, 9.81982e+02, 9.82983e+02, 9.83984e+02, 9.84985e+02,\n",
       "       9.85986e+02, 9.86987e+02, 9.87988e+02, 9.88989e+02, 9.89990e+02,\n",
       "       9.90991e+02, 9.91992e+02, 9.92993e+02, 9.93994e+02, 9.94995e+02,\n",
       "       9.95996e+02, 9.96997e+02, 9.97998e+02, 9.98999e+02, 1.00000e+03]),\n",
       "                                        &#x27;elasticnet__l1_ratio&#x27;: [1]},\n",
       "                   random_state=42)</pre></div></div></div><div class=\"sk-parallel\"><div class=\"sk-parallel-item\"><div class=\"sk-item\"><div class=\"sk-label-container\"><div class=\"sk-label sk-toggleable\"><input class=\"sk-toggleable__control sk-hidden--visually\" id=\"sk-estimator-id-659\" type=\"checkbox\" ><label for=\"sk-estimator-id-659\" class=\"sk-toggleable__label sk-toggleable__label-arrow\">estimator: Pipeline</label><div class=\"sk-toggleable__content\"><pre>Pipeline(steps=[(&#x27;pipeline&#x27;,\n",
       "                 Pipeline(steps=[(&#x27;columntransformer&#x27;,\n",
       "                                  ColumnTransformer(transformers=[(&#x27;pipeline-1&#x27;,\n",
       "                                                                   Pipeline(steps=[(&#x27;standardscaler&#x27;,\n",
       "                                                                                    StandardScaler())]),\n",
       "                                                                   [&#x27;age&#x27;,\n",
       "                                                                    &#x27;bmi&#x27;,\n",
       "                                                                    &#x27;children&#x27;]),\n",
       "                                                                  (&#x27;pipeline-2&#x27;,\n",
       "                                                                   Pipeline(steps=[(&#x27;onehotencoder&#x27;,\n",
       "                                                                                    OneHotEncoder())]),\n",
       "                                                                   [&#x27;sex&#x27;,\n",
       "                                                                    &#x27;smoker&#x27;,\n",
       "                                                                    &#x27;region&#x27;])])),\n",
       "                                 (&#x27;polynomialfeatures&#x27;,\n",
       "                                  PolynomialFeatures())])),\n",
       "                (&#x27;elasticnet&#x27;, ElasticNet())])</pre></div></div></div><div class=\"sk-serial\"><div class=\"sk-item\"><div class=\"sk-serial\"><div class=\"sk-item\"><div class=\"sk-label-container\"><div class=\"sk-label sk-toggleable\"><input class=\"sk-toggleable__control sk-hidden--visually\" id=\"sk-estimator-id-660\" type=\"checkbox\" ><label for=\"sk-estimator-id-660\" class=\"sk-toggleable__label sk-toggleable__label-arrow\">pipeline: Pipeline</label><div class=\"sk-toggleable__content\"><pre>Pipeline(steps=[(&#x27;columntransformer&#x27;,\n",
       "                 ColumnTransformer(transformers=[(&#x27;pipeline-1&#x27;,\n",
       "                                                  Pipeline(steps=[(&#x27;standardscaler&#x27;,\n",
       "                                                                   StandardScaler())]),\n",
       "                                                  [&#x27;age&#x27;, &#x27;bmi&#x27;, &#x27;children&#x27;]),\n",
       "                                                 (&#x27;pipeline-2&#x27;,\n",
       "                                                  Pipeline(steps=[(&#x27;onehotencoder&#x27;,\n",
       "                                                                   OneHotEncoder())]),\n",
       "                                                  [&#x27;sex&#x27;, &#x27;smoker&#x27;,\n",
       "                                                   &#x27;region&#x27;])])),\n",
       "                (&#x27;polynomialfeatures&#x27;, PolynomialFeatures())])</pre></div></div></div><div class=\"sk-serial\"><div class=\"sk-item sk-dashed-wrapped\"><div class=\"sk-label-container\"><div class=\"sk-label sk-toggleable\"><input class=\"sk-toggleable__control sk-hidden--visually\" id=\"sk-estimator-id-661\" type=\"checkbox\" ><label for=\"sk-estimator-id-661\" class=\"sk-toggleable__label sk-toggleable__label-arrow\">columntransformer: ColumnTransformer</label><div class=\"sk-toggleable__content\"><pre>ColumnTransformer(transformers=[(&#x27;pipeline-1&#x27;,\n",
       "                                 Pipeline(steps=[(&#x27;standardscaler&#x27;,\n",
       "                                                  StandardScaler())]),\n",
       "                                 [&#x27;age&#x27;, &#x27;bmi&#x27;, &#x27;children&#x27;]),\n",
       "                                (&#x27;pipeline-2&#x27;,\n",
       "                                 Pipeline(steps=[(&#x27;onehotencoder&#x27;,\n",
       "                                                  OneHotEncoder())]),\n",
       "                                 [&#x27;sex&#x27;, &#x27;smoker&#x27;, &#x27;region&#x27;])])</pre></div></div></div><div class=\"sk-parallel\"><div class=\"sk-parallel-item\"><div class=\"sk-item\"><div class=\"sk-label-container\"><div class=\"sk-label sk-toggleable\"><input class=\"sk-toggleable__control sk-hidden--visually\" id=\"sk-estimator-id-662\" type=\"checkbox\" ><label for=\"sk-estimator-id-662\" class=\"sk-toggleable__label sk-toggleable__label-arrow\">pipeline-1</label><div class=\"sk-toggleable__content\"><pre>[&#x27;age&#x27;, &#x27;bmi&#x27;, &#x27;children&#x27;]</pre></div></div></div><div class=\"sk-serial\"><div class=\"sk-item\"><div class=\"sk-serial\"><div class=\"sk-item\"><div class=\"sk-estimator sk-toggleable\"><input class=\"sk-toggleable__control sk-hidden--visually\" id=\"sk-estimator-id-663\" type=\"checkbox\" ><label for=\"sk-estimator-id-663\" class=\"sk-toggleable__label sk-toggleable__label-arrow\">StandardScaler</label><div class=\"sk-toggleable__content\"><pre>StandardScaler()</pre></div></div></div></div></div></div></div></div><div class=\"sk-parallel-item\"><div class=\"sk-item\"><div class=\"sk-label-container\"><div class=\"sk-label sk-toggleable\"><input class=\"sk-toggleable__control sk-hidden--visually\" id=\"sk-estimator-id-664\" type=\"checkbox\" ><label for=\"sk-estimator-id-664\" class=\"sk-toggleable__label sk-toggleable__label-arrow\">pipeline-2</label><div class=\"sk-toggleable__content\"><pre>[&#x27;sex&#x27;, &#x27;smoker&#x27;, &#x27;region&#x27;]</pre></div></div></div><div class=\"sk-serial\"><div class=\"sk-item\"><div class=\"sk-serial\"><div class=\"sk-item\"><div class=\"sk-estimator sk-toggleable\"><input class=\"sk-toggleable__control sk-hidden--visually\" id=\"sk-estimator-id-665\" type=\"checkbox\" ><label for=\"sk-estimator-id-665\" class=\"sk-toggleable__label sk-toggleable__label-arrow\">OneHotEncoder</label><div class=\"sk-toggleable__content\"><pre>OneHotEncoder()</pre></div></div></div></div></div></div></div></div></div></div><div class=\"sk-item\"><div class=\"sk-estimator sk-toggleable\"><input class=\"sk-toggleable__control sk-hidden--visually\" id=\"sk-estimator-id-666\" type=\"checkbox\" ><label for=\"sk-estimator-id-666\" class=\"sk-toggleable__label sk-toggleable__label-arrow\">PolynomialFeatures</label><div class=\"sk-toggleable__content\"><pre>PolynomialFeatures()</pre></div></div></div></div></div><div class=\"sk-item\"><div class=\"sk-estimator sk-toggleable\"><input class=\"sk-toggleable__control sk-hidden--visually\" id=\"sk-estimator-id-667\" type=\"checkbox\" ><label for=\"sk-estimator-id-667\" class=\"sk-toggleable__label sk-toggleable__label-arrow\">ElasticNet</label><div class=\"sk-toggleable__content\"><pre>ElasticNet()</pre></div></div></div></div></div></div></div></div></div></div></div></div>"
      ],
      "text/plain": [
       "RandomizedSearchCV(cv=5,\n",
       "                   estimator=Pipeline(steps=[('pipeline',\n",
       "                                              Pipeline(steps=[('columntransformer',\n",
       "                                                               ColumnTransformer(transformers=[('pipeline-1',\n",
       "                                                                                                Pipeline(steps=[('standardscaler',\n",
       "                                                                                                                 StandardScaler())]),\n",
       "                                                                                                ['age',\n",
       "                                                                                                 'bmi',\n",
       "                                                                                                 'children']),\n",
       "                                                                                               ('pipeline-2',\n",
       "                                                                                                Pipeline(steps=[('onehotencoder',\n",
       "                                                                                                                 OneHotEncoder())]),\n",
       "                                                                                                ['sex',\n",
       "                                                                                                 'smoker',\n",
       "                                                                                                 'region'])])),\n",
       "                                                              ('polynomialfeatures',\n",
       "                                                               Polynom...\n",
       "       9.70971e+02, 9.71972e+02, 9.72973e+02, 9.73974e+02, 9.74975e+02,\n",
       "       9.75976e+02, 9.76977e+02, 9.77978e+02, 9.78979e+02, 9.79980e+02,\n",
       "       9.80981e+02, 9.81982e+02, 9.82983e+02, 9.83984e+02, 9.84985e+02,\n",
       "       9.85986e+02, 9.86987e+02, 9.87988e+02, 9.88989e+02, 9.89990e+02,\n",
       "       9.90991e+02, 9.91992e+02, 9.92993e+02, 9.93994e+02, 9.94995e+02,\n",
       "       9.95996e+02, 9.96997e+02, 9.97998e+02, 9.98999e+02, 1.00000e+03]),\n",
       "                                        'elasticnet__l1_ratio': [1]},\n",
       "                   random_state=42)"
      ]
     },
     "execution_count": 1179,
     "metadata": {},
     "output_type": "execute_result"
    }
   ],
   "source": [
    "param_grid = {\"elasticnet__alpha\": np.linspace(0.001,1000, 1000),\n",
    "              \"elasticnet__l1_ratio\": [1]}\n",
    "clf = RandomizedSearchCV(pipe_el, param_grid, random_state=42 , n_iter=500, cv=5)\n",
    "\n",
    "clf.fit(X_train, y_train)"
   ]
  },
  {
   "cell_type": "code",
   "execution_count": 1180,
   "metadata": {},
   "outputs": [
    {
     "data": {
      "text/plain": [
       "0.8224077287267241"
      ]
     },
     "execution_count": 1180,
     "metadata": {},
     "output_type": "execute_result"
    }
   ],
   "source": [
    "clf.best_score_"
   ]
  },
  {
   "cell_type": "code",
   "execution_count": 1181,
   "metadata": {},
   "outputs": [
    {
     "data": {
      "text/plain": [
       "{'elasticnet__l1_ratio': 1, 'elasticnet__alpha': 94.09500000000001}"
      ]
     },
     "execution_count": 1181,
     "metadata": {},
     "output_type": "execute_result"
    }
   ],
   "source": [
    "clf.best_params_"
   ]
  },
  {
   "cell_type": "code",
   "execution_count": 1182,
   "metadata": {},
   "outputs": [
    {
     "data": {
      "text/html": [
       "<style>#sk-container-id-74 {color: black;background-color: white;}#sk-container-id-74 pre{padding: 0;}#sk-container-id-74 div.sk-toggleable {background-color: white;}#sk-container-id-74 label.sk-toggleable__label {cursor: pointer;display: block;width: 100%;margin-bottom: 0;padding: 0.3em;box-sizing: border-box;text-align: center;}#sk-container-id-74 label.sk-toggleable__label-arrow:before {content: \"▸\";float: left;margin-right: 0.25em;color: #696969;}#sk-container-id-74 label.sk-toggleable__label-arrow:hover:before {color: black;}#sk-container-id-74 div.sk-estimator:hover label.sk-toggleable__label-arrow:before {color: black;}#sk-container-id-74 div.sk-toggleable__content {max-height: 0;max-width: 0;overflow: hidden;text-align: left;background-color: #f0f8ff;}#sk-container-id-74 div.sk-toggleable__content pre {margin: 0.2em;color: black;border-radius: 0.25em;background-color: #f0f8ff;}#sk-container-id-74 input.sk-toggleable__control:checked~div.sk-toggleable__content {max-height: 200px;max-width: 100%;overflow: auto;}#sk-container-id-74 input.sk-toggleable__control:checked~label.sk-toggleable__label-arrow:before {content: \"▾\";}#sk-container-id-74 div.sk-estimator input.sk-toggleable__control:checked~label.sk-toggleable__label {background-color: #d4ebff;}#sk-container-id-74 div.sk-label input.sk-toggleable__control:checked~label.sk-toggleable__label {background-color: #d4ebff;}#sk-container-id-74 input.sk-hidden--visually {border: 0;clip: rect(1px 1px 1px 1px);clip: rect(1px, 1px, 1px, 1px);height: 1px;margin: -1px;overflow: hidden;padding: 0;position: absolute;width: 1px;}#sk-container-id-74 div.sk-estimator {font-family: monospace;background-color: #f0f8ff;border: 1px dotted black;border-radius: 0.25em;box-sizing: border-box;margin-bottom: 0.5em;}#sk-container-id-74 div.sk-estimator:hover {background-color: #d4ebff;}#sk-container-id-74 div.sk-parallel-item::after {content: \"\";width: 100%;border-bottom: 1px solid gray;flex-grow: 1;}#sk-container-id-74 div.sk-label:hover label.sk-toggleable__label {background-color: #d4ebff;}#sk-container-id-74 div.sk-serial::before {content: \"\";position: absolute;border-left: 1px solid gray;box-sizing: border-box;top: 0;bottom: 0;left: 50%;z-index: 0;}#sk-container-id-74 div.sk-serial {display: flex;flex-direction: column;align-items: center;background-color: white;padding-right: 0.2em;padding-left: 0.2em;position: relative;}#sk-container-id-74 div.sk-item {position: relative;z-index: 1;}#sk-container-id-74 div.sk-parallel {display: flex;align-items: stretch;justify-content: center;background-color: white;position: relative;}#sk-container-id-74 div.sk-item::before, #sk-container-id-74 div.sk-parallel-item::before {content: \"\";position: absolute;border-left: 1px solid gray;box-sizing: border-box;top: 0;bottom: 0;left: 50%;z-index: -1;}#sk-container-id-74 div.sk-parallel-item {display: flex;flex-direction: column;z-index: 1;position: relative;background-color: white;}#sk-container-id-74 div.sk-parallel-item:first-child::after {align-self: flex-end;width: 50%;}#sk-container-id-74 div.sk-parallel-item:last-child::after {align-self: flex-start;width: 50%;}#sk-container-id-74 div.sk-parallel-item:only-child::after {width: 0;}#sk-container-id-74 div.sk-dashed-wrapped {border: 1px dashed gray;margin: 0 0.4em 0.5em 0.4em;box-sizing: border-box;padding-bottom: 0.4em;background-color: white;}#sk-container-id-74 div.sk-label label {font-family: monospace;font-weight: bold;display: inline-block;line-height: 1.2em;}#sk-container-id-74 div.sk-label-container {text-align: center;}#sk-container-id-74 div.sk-container {/* jupyter's `normalize.less` sets `[hidden] { display: none; }` but bootstrap.min.css set `[hidden] { display: none !important; }` so we also need the `!important` here to be able to override the default hidden behavior on the sphinx rendered scikit-learn.org. See: https://github.com/scikit-learn/scikit-learn/issues/21755 */display: inline-block !important;position: relative;}#sk-container-id-74 div.sk-text-repr-fallback {display: none;}</style><div id=\"sk-container-id-74\" class=\"sk-top-container\"><div class=\"sk-text-repr-fallback\"><pre>GridSearchCV(cv=5,\n",
       "             estimator=Pipeline(steps=[(&#x27;pipeline&#x27;,\n",
       "                                        Pipeline(steps=[(&#x27;columntransformer&#x27;,\n",
       "                                                         ColumnTransformer(transformers=[(&#x27;pipeline-1&#x27;,\n",
       "                                                                                          Pipeline(steps=[(&#x27;standardscaler&#x27;,\n",
       "                                                                                                           StandardScaler())]),\n",
       "                                                                                          [&#x27;age&#x27;,\n",
       "                                                                                           &#x27;bmi&#x27;,\n",
       "                                                                                           &#x27;children&#x27;]),\n",
       "                                                                                         (&#x27;pipeline-2&#x27;,\n",
       "                                                                                          Pipeline(steps=[(&#x27;onehotencoder&#x27;,\n",
       "                                                                                                           OneHotEncoder())]),\n",
       "                                                                                          [&#x27;sex&#x27;,\n",
       "                                                                                           &#x27;smoker&#x27;,\n",
       "                                                                                           &#x27;region&#x27;])])),\n",
       "                                                        (&#x27;polynomialfeatures&#x27;,\n",
       "                                                         PolynomialFea...\n",
       "       7.82828283, 7.86868687, 7.90909091, 7.94949495, 7.98989899,\n",
       "       8.03030303, 8.07070707, 8.11111111, 8.15151515, 8.19191919,\n",
       "       8.23232323, 8.27272727, 8.31313131, 8.35353535, 8.39393939,\n",
       "       8.43434343, 8.47474747, 8.51515152, 8.55555556, 8.5959596 ,\n",
       "       8.63636364, 8.67676768, 8.71717172, 8.75757576, 8.7979798 ,\n",
       "       8.83838384, 8.87878788, 8.91919192, 8.95959596, 9.        ]),\n",
       "                         &#x27;elasticnet__l1_ratio&#x27;: [1]},\n",
       "             return_train_score=True, scoring=&#x27;r2&#x27;)</pre><b>In a Jupyter environment, please rerun this cell to show the HTML representation or trust the notebook. <br />On GitHub, the HTML representation is unable to render, please try loading this page with nbviewer.org.</b></div><div class=\"sk-container\" hidden><div class=\"sk-item sk-dashed-wrapped\"><div class=\"sk-label-container\"><div class=\"sk-label sk-toggleable\"><input class=\"sk-toggleable__control sk-hidden--visually\" id=\"sk-estimator-id-668\" type=\"checkbox\" ><label for=\"sk-estimator-id-668\" class=\"sk-toggleable__label sk-toggleable__label-arrow\">GridSearchCV</label><div class=\"sk-toggleable__content\"><pre>GridSearchCV(cv=5,\n",
       "             estimator=Pipeline(steps=[(&#x27;pipeline&#x27;,\n",
       "                                        Pipeline(steps=[(&#x27;columntransformer&#x27;,\n",
       "                                                         ColumnTransformer(transformers=[(&#x27;pipeline-1&#x27;,\n",
       "                                                                                          Pipeline(steps=[(&#x27;standardscaler&#x27;,\n",
       "                                                                                                           StandardScaler())]),\n",
       "                                                                                          [&#x27;age&#x27;,\n",
       "                                                                                           &#x27;bmi&#x27;,\n",
       "                                                                                           &#x27;children&#x27;]),\n",
       "                                                                                         (&#x27;pipeline-2&#x27;,\n",
       "                                                                                          Pipeline(steps=[(&#x27;onehotencoder&#x27;,\n",
       "                                                                                                           OneHotEncoder())]),\n",
       "                                                                                          [&#x27;sex&#x27;,\n",
       "                                                                                           &#x27;smoker&#x27;,\n",
       "                                                                                           &#x27;region&#x27;])])),\n",
       "                                                        (&#x27;polynomialfeatures&#x27;,\n",
       "                                                         PolynomialFea...\n",
       "       7.82828283, 7.86868687, 7.90909091, 7.94949495, 7.98989899,\n",
       "       8.03030303, 8.07070707, 8.11111111, 8.15151515, 8.19191919,\n",
       "       8.23232323, 8.27272727, 8.31313131, 8.35353535, 8.39393939,\n",
       "       8.43434343, 8.47474747, 8.51515152, 8.55555556, 8.5959596 ,\n",
       "       8.63636364, 8.67676768, 8.71717172, 8.75757576, 8.7979798 ,\n",
       "       8.83838384, 8.87878788, 8.91919192, 8.95959596, 9.        ]),\n",
       "                         &#x27;elasticnet__l1_ratio&#x27;: [1]},\n",
       "             return_train_score=True, scoring=&#x27;r2&#x27;)</pre></div></div></div><div class=\"sk-parallel\"><div class=\"sk-parallel-item\"><div class=\"sk-item\"><div class=\"sk-label-container\"><div class=\"sk-label sk-toggleable\"><input class=\"sk-toggleable__control sk-hidden--visually\" id=\"sk-estimator-id-669\" type=\"checkbox\" ><label for=\"sk-estimator-id-669\" class=\"sk-toggleable__label sk-toggleable__label-arrow\">estimator: Pipeline</label><div class=\"sk-toggleable__content\"><pre>Pipeline(steps=[(&#x27;pipeline&#x27;,\n",
       "                 Pipeline(steps=[(&#x27;columntransformer&#x27;,\n",
       "                                  ColumnTransformer(transformers=[(&#x27;pipeline-1&#x27;,\n",
       "                                                                   Pipeline(steps=[(&#x27;standardscaler&#x27;,\n",
       "                                                                                    StandardScaler())]),\n",
       "                                                                   [&#x27;age&#x27;,\n",
       "                                                                    &#x27;bmi&#x27;,\n",
       "                                                                    &#x27;children&#x27;]),\n",
       "                                                                  (&#x27;pipeline-2&#x27;,\n",
       "                                                                   Pipeline(steps=[(&#x27;onehotencoder&#x27;,\n",
       "                                                                                    OneHotEncoder())]),\n",
       "                                                                   [&#x27;sex&#x27;,\n",
       "                                                                    &#x27;smoker&#x27;,\n",
       "                                                                    &#x27;region&#x27;])])),\n",
       "                                 (&#x27;polynomialfeatures&#x27;,\n",
       "                                  PolynomialFeatures())])),\n",
       "                (&#x27;elasticnet&#x27;, ElasticNet())])</pre></div></div></div><div class=\"sk-serial\"><div class=\"sk-item\"><div class=\"sk-serial\"><div class=\"sk-item\"><div class=\"sk-label-container\"><div class=\"sk-label sk-toggleable\"><input class=\"sk-toggleable__control sk-hidden--visually\" id=\"sk-estimator-id-670\" type=\"checkbox\" ><label for=\"sk-estimator-id-670\" class=\"sk-toggleable__label sk-toggleable__label-arrow\">pipeline: Pipeline</label><div class=\"sk-toggleable__content\"><pre>Pipeline(steps=[(&#x27;columntransformer&#x27;,\n",
       "                 ColumnTransformer(transformers=[(&#x27;pipeline-1&#x27;,\n",
       "                                                  Pipeline(steps=[(&#x27;standardscaler&#x27;,\n",
       "                                                                   StandardScaler())]),\n",
       "                                                  [&#x27;age&#x27;, &#x27;bmi&#x27;, &#x27;children&#x27;]),\n",
       "                                                 (&#x27;pipeline-2&#x27;,\n",
       "                                                  Pipeline(steps=[(&#x27;onehotencoder&#x27;,\n",
       "                                                                   OneHotEncoder())]),\n",
       "                                                  [&#x27;sex&#x27;, &#x27;smoker&#x27;,\n",
       "                                                   &#x27;region&#x27;])])),\n",
       "                (&#x27;polynomialfeatures&#x27;, PolynomialFeatures())])</pre></div></div></div><div class=\"sk-serial\"><div class=\"sk-item sk-dashed-wrapped\"><div class=\"sk-label-container\"><div class=\"sk-label sk-toggleable\"><input class=\"sk-toggleable__control sk-hidden--visually\" id=\"sk-estimator-id-671\" type=\"checkbox\" ><label for=\"sk-estimator-id-671\" class=\"sk-toggleable__label sk-toggleable__label-arrow\">columntransformer: ColumnTransformer</label><div class=\"sk-toggleable__content\"><pre>ColumnTransformer(transformers=[(&#x27;pipeline-1&#x27;,\n",
       "                                 Pipeline(steps=[(&#x27;standardscaler&#x27;,\n",
       "                                                  StandardScaler())]),\n",
       "                                 [&#x27;age&#x27;, &#x27;bmi&#x27;, &#x27;children&#x27;]),\n",
       "                                (&#x27;pipeline-2&#x27;,\n",
       "                                 Pipeline(steps=[(&#x27;onehotencoder&#x27;,\n",
       "                                                  OneHotEncoder())]),\n",
       "                                 [&#x27;sex&#x27;, &#x27;smoker&#x27;, &#x27;region&#x27;])])</pre></div></div></div><div class=\"sk-parallel\"><div class=\"sk-parallel-item\"><div class=\"sk-item\"><div class=\"sk-label-container\"><div class=\"sk-label sk-toggleable\"><input class=\"sk-toggleable__control sk-hidden--visually\" id=\"sk-estimator-id-672\" type=\"checkbox\" ><label for=\"sk-estimator-id-672\" class=\"sk-toggleable__label sk-toggleable__label-arrow\">pipeline-1</label><div class=\"sk-toggleable__content\"><pre>[&#x27;age&#x27;, &#x27;bmi&#x27;, &#x27;children&#x27;]</pre></div></div></div><div class=\"sk-serial\"><div class=\"sk-item\"><div class=\"sk-serial\"><div class=\"sk-item\"><div class=\"sk-estimator sk-toggleable\"><input class=\"sk-toggleable__control sk-hidden--visually\" id=\"sk-estimator-id-673\" type=\"checkbox\" ><label for=\"sk-estimator-id-673\" class=\"sk-toggleable__label sk-toggleable__label-arrow\">StandardScaler</label><div class=\"sk-toggleable__content\"><pre>StandardScaler()</pre></div></div></div></div></div></div></div></div><div class=\"sk-parallel-item\"><div class=\"sk-item\"><div class=\"sk-label-container\"><div class=\"sk-label sk-toggleable\"><input class=\"sk-toggleable__control sk-hidden--visually\" id=\"sk-estimator-id-674\" type=\"checkbox\" ><label for=\"sk-estimator-id-674\" class=\"sk-toggleable__label sk-toggleable__label-arrow\">pipeline-2</label><div class=\"sk-toggleable__content\"><pre>[&#x27;sex&#x27;, &#x27;smoker&#x27;, &#x27;region&#x27;]</pre></div></div></div><div class=\"sk-serial\"><div class=\"sk-item\"><div class=\"sk-serial\"><div class=\"sk-item\"><div class=\"sk-estimator sk-toggleable\"><input class=\"sk-toggleable__control sk-hidden--visually\" id=\"sk-estimator-id-675\" type=\"checkbox\" ><label for=\"sk-estimator-id-675\" class=\"sk-toggleable__label sk-toggleable__label-arrow\">OneHotEncoder</label><div class=\"sk-toggleable__content\"><pre>OneHotEncoder()</pre></div></div></div></div></div></div></div></div></div></div><div class=\"sk-item\"><div class=\"sk-estimator sk-toggleable\"><input class=\"sk-toggleable__control sk-hidden--visually\" id=\"sk-estimator-id-676\" type=\"checkbox\" ><label for=\"sk-estimator-id-676\" class=\"sk-toggleable__label sk-toggleable__label-arrow\">PolynomialFeatures</label><div class=\"sk-toggleable__content\"><pre>PolynomialFeatures()</pre></div></div></div></div></div><div class=\"sk-item\"><div class=\"sk-estimator sk-toggleable\"><input class=\"sk-toggleable__control sk-hidden--visually\" id=\"sk-estimator-id-677\" type=\"checkbox\" ><label for=\"sk-estimator-id-677\" class=\"sk-toggleable__label sk-toggleable__label-arrow\">ElasticNet</label><div class=\"sk-toggleable__content\"><pre>ElasticNet()</pre></div></div></div></div></div></div></div></div></div></div></div></div>"
      ],
      "text/plain": [
       "GridSearchCV(cv=5,\n",
       "             estimator=Pipeline(steps=[('pipeline',\n",
       "                                        Pipeline(steps=[('columntransformer',\n",
       "                                                         ColumnTransformer(transformers=[('pipeline-1',\n",
       "                                                                                          Pipeline(steps=[('standardscaler',\n",
       "                                                                                                           StandardScaler())]),\n",
       "                                                                                          ['age',\n",
       "                                                                                           'bmi',\n",
       "                                                                                           'children']),\n",
       "                                                                                         ('pipeline-2',\n",
       "                                                                                          Pipeline(steps=[('onehotencoder',\n",
       "                                                                                                           OneHotEncoder())]),\n",
       "                                                                                          ['sex',\n",
       "                                                                                           'smoker',\n",
       "                                                                                           'region'])])),\n",
       "                                                        ('polynomialfeatures',\n",
       "                                                         PolynomialFea...\n",
       "       7.82828283, 7.86868687, 7.90909091, 7.94949495, 7.98989899,\n",
       "       8.03030303, 8.07070707, 8.11111111, 8.15151515, 8.19191919,\n",
       "       8.23232323, 8.27272727, 8.31313131, 8.35353535, 8.39393939,\n",
       "       8.43434343, 8.47474747, 8.51515152, 8.55555556, 8.5959596 ,\n",
       "       8.63636364, 8.67676768, 8.71717172, 8.75757576, 8.7979798 ,\n",
       "       8.83838384, 8.87878788, 8.91919192, 8.95959596, 9.        ]),\n",
       "                         'elasticnet__l1_ratio': [1]},\n",
       "             return_train_score=True, scoring='r2')"
      ]
     },
     "execution_count": 1182,
     "metadata": {},
     "output_type": "execute_result"
    }
   ],
   "source": [
    "# # Créer un objet GridSearchCV pour effectuer la recherche de hyperparamètres\n",
    "param_grid = {\"elasticnet__alpha\": np.linspace(5,9, 100),\n",
    "              \"elasticnet__l1_ratio\": [1]}\n",
    "grid_search = GridSearchCV(pipe_el, param_grid, cv=5, scoring=\"r2\", return_train_score=True)\n",
    "grid_search.fit(X_train,y_train)"
   ]
  },
  {
   "cell_type": "code",
   "execution_count": 1183,
   "metadata": {},
   "outputs": [
    {
     "data": {
      "text/plain": [
       "{'elasticnet__alpha': 9.0, 'elasticnet__l1_ratio': 1}"
      ]
     },
     "execution_count": 1183,
     "metadata": {},
     "output_type": "execute_result"
    }
   ],
   "source": [
    "grid_search.best_params_"
   ]
  },
  {
   "cell_type": "code",
   "execution_count": 1184,
   "metadata": {},
   "outputs": [
    {
     "data": {
      "text/html": [
       "<style>#sk-container-id-75 {color: black;background-color: white;}#sk-container-id-75 pre{padding: 0;}#sk-container-id-75 div.sk-toggleable {background-color: white;}#sk-container-id-75 label.sk-toggleable__label {cursor: pointer;display: block;width: 100%;margin-bottom: 0;padding: 0.3em;box-sizing: border-box;text-align: center;}#sk-container-id-75 label.sk-toggleable__label-arrow:before {content: \"▸\";float: left;margin-right: 0.25em;color: #696969;}#sk-container-id-75 label.sk-toggleable__label-arrow:hover:before {color: black;}#sk-container-id-75 div.sk-estimator:hover label.sk-toggleable__label-arrow:before {color: black;}#sk-container-id-75 div.sk-toggleable__content {max-height: 0;max-width: 0;overflow: hidden;text-align: left;background-color: #f0f8ff;}#sk-container-id-75 div.sk-toggleable__content pre {margin: 0.2em;color: black;border-radius: 0.25em;background-color: #f0f8ff;}#sk-container-id-75 input.sk-toggleable__control:checked~div.sk-toggleable__content {max-height: 200px;max-width: 100%;overflow: auto;}#sk-container-id-75 input.sk-toggleable__control:checked~label.sk-toggleable__label-arrow:before {content: \"▾\";}#sk-container-id-75 div.sk-estimator input.sk-toggleable__control:checked~label.sk-toggleable__label {background-color: #d4ebff;}#sk-container-id-75 div.sk-label input.sk-toggleable__control:checked~label.sk-toggleable__label {background-color: #d4ebff;}#sk-container-id-75 input.sk-hidden--visually {border: 0;clip: rect(1px 1px 1px 1px);clip: rect(1px, 1px, 1px, 1px);height: 1px;margin: -1px;overflow: hidden;padding: 0;position: absolute;width: 1px;}#sk-container-id-75 div.sk-estimator {font-family: monospace;background-color: #f0f8ff;border: 1px dotted black;border-radius: 0.25em;box-sizing: border-box;margin-bottom: 0.5em;}#sk-container-id-75 div.sk-estimator:hover {background-color: #d4ebff;}#sk-container-id-75 div.sk-parallel-item::after {content: \"\";width: 100%;border-bottom: 1px solid gray;flex-grow: 1;}#sk-container-id-75 div.sk-label:hover label.sk-toggleable__label {background-color: #d4ebff;}#sk-container-id-75 div.sk-serial::before {content: \"\";position: absolute;border-left: 1px solid gray;box-sizing: border-box;top: 0;bottom: 0;left: 50%;z-index: 0;}#sk-container-id-75 div.sk-serial {display: flex;flex-direction: column;align-items: center;background-color: white;padding-right: 0.2em;padding-left: 0.2em;position: relative;}#sk-container-id-75 div.sk-item {position: relative;z-index: 1;}#sk-container-id-75 div.sk-parallel {display: flex;align-items: stretch;justify-content: center;background-color: white;position: relative;}#sk-container-id-75 div.sk-item::before, #sk-container-id-75 div.sk-parallel-item::before {content: \"\";position: absolute;border-left: 1px solid gray;box-sizing: border-box;top: 0;bottom: 0;left: 50%;z-index: -1;}#sk-container-id-75 div.sk-parallel-item {display: flex;flex-direction: column;z-index: 1;position: relative;background-color: white;}#sk-container-id-75 div.sk-parallel-item:first-child::after {align-self: flex-end;width: 50%;}#sk-container-id-75 div.sk-parallel-item:last-child::after {align-self: flex-start;width: 50%;}#sk-container-id-75 div.sk-parallel-item:only-child::after {width: 0;}#sk-container-id-75 div.sk-dashed-wrapped {border: 1px dashed gray;margin: 0 0.4em 0.5em 0.4em;box-sizing: border-box;padding-bottom: 0.4em;background-color: white;}#sk-container-id-75 div.sk-label label {font-family: monospace;font-weight: bold;display: inline-block;line-height: 1.2em;}#sk-container-id-75 div.sk-label-container {text-align: center;}#sk-container-id-75 div.sk-container {/* jupyter's `normalize.less` sets `[hidden] { display: none; }` but bootstrap.min.css set `[hidden] { display: none !important; }` so we also need the `!important` here to be able to override the default hidden behavior on the sphinx rendered scikit-learn.org. See: https://github.com/scikit-learn/scikit-learn/issues/21755 */display: inline-block !important;position: relative;}#sk-container-id-75 div.sk-text-repr-fallback {display: none;}</style><div id=\"sk-container-id-75\" class=\"sk-top-container\"><div class=\"sk-text-repr-fallback\"><pre>Pipeline(steps=[(&#x27;pipeline&#x27;,\n",
       "                 Pipeline(steps=[(&#x27;columntransformer&#x27;,\n",
       "                                  ColumnTransformer(transformers=[(&#x27;pipeline-1&#x27;,\n",
       "                                                                   Pipeline(steps=[(&#x27;standardscaler&#x27;,\n",
       "                                                                                    StandardScaler())]),\n",
       "                                                                   [&#x27;age&#x27;,\n",
       "                                                                    &#x27;bmi&#x27;,\n",
       "                                                                    &#x27;children&#x27;]),\n",
       "                                                                  (&#x27;pipeline-2&#x27;,\n",
       "                                                                   Pipeline(steps=[(&#x27;onehotencoder&#x27;,\n",
       "                                                                                    OneHotEncoder())]),\n",
       "                                                                   [&#x27;sex&#x27;,\n",
       "                                                                    &#x27;smoker&#x27;,\n",
       "                                                                    &#x27;region&#x27;])])),\n",
       "                                 (&#x27;polynomialfeatures&#x27;,\n",
       "                                  PolynomialFeatures())])),\n",
       "                (&#x27;elasticnet&#x27;, ElasticNet(alpha=9.0, l1_ratio=1))])</pre><b>In a Jupyter environment, please rerun this cell to show the HTML representation or trust the notebook. <br />On GitHub, the HTML representation is unable to render, please try loading this page with nbviewer.org.</b></div><div class=\"sk-container\" hidden><div class=\"sk-item sk-dashed-wrapped\"><div class=\"sk-label-container\"><div class=\"sk-label sk-toggleable\"><input class=\"sk-toggleable__control sk-hidden--visually\" id=\"sk-estimator-id-678\" type=\"checkbox\" ><label for=\"sk-estimator-id-678\" class=\"sk-toggleable__label sk-toggleable__label-arrow\">Pipeline</label><div class=\"sk-toggleable__content\"><pre>Pipeline(steps=[(&#x27;pipeline&#x27;,\n",
       "                 Pipeline(steps=[(&#x27;columntransformer&#x27;,\n",
       "                                  ColumnTransformer(transformers=[(&#x27;pipeline-1&#x27;,\n",
       "                                                                   Pipeline(steps=[(&#x27;standardscaler&#x27;,\n",
       "                                                                                    StandardScaler())]),\n",
       "                                                                   [&#x27;age&#x27;,\n",
       "                                                                    &#x27;bmi&#x27;,\n",
       "                                                                    &#x27;children&#x27;]),\n",
       "                                                                  (&#x27;pipeline-2&#x27;,\n",
       "                                                                   Pipeline(steps=[(&#x27;onehotencoder&#x27;,\n",
       "                                                                                    OneHotEncoder())]),\n",
       "                                                                   [&#x27;sex&#x27;,\n",
       "                                                                    &#x27;smoker&#x27;,\n",
       "                                                                    &#x27;region&#x27;])])),\n",
       "                                 (&#x27;polynomialfeatures&#x27;,\n",
       "                                  PolynomialFeatures())])),\n",
       "                (&#x27;elasticnet&#x27;, ElasticNet(alpha=9.0, l1_ratio=1))])</pre></div></div></div><div class=\"sk-serial\"><div class=\"sk-item\"><div class=\"sk-label-container\"><div class=\"sk-label sk-toggleable\"><input class=\"sk-toggleable__control sk-hidden--visually\" id=\"sk-estimator-id-679\" type=\"checkbox\" ><label for=\"sk-estimator-id-679\" class=\"sk-toggleable__label sk-toggleable__label-arrow\">pipeline: Pipeline</label><div class=\"sk-toggleable__content\"><pre>Pipeline(steps=[(&#x27;columntransformer&#x27;,\n",
       "                 ColumnTransformer(transformers=[(&#x27;pipeline-1&#x27;,\n",
       "                                                  Pipeline(steps=[(&#x27;standardscaler&#x27;,\n",
       "                                                                   StandardScaler())]),\n",
       "                                                  [&#x27;age&#x27;, &#x27;bmi&#x27;, &#x27;children&#x27;]),\n",
       "                                                 (&#x27;pipeline-2&#x27;,\n",
       "                                                  Pipeline(steps=[(&#x27;onehotencoder&#x27;,\n",
       "                                                                   OneHotEncoder())]),\n",
       "                                                  [&#x27;sex&#x27;, &#x27;smoker&#x27;,\n",
       "                                                   &#x27;region&#x27;])])),\n",
       "                (&#x27;polynomialfeatures&#x27;, PolynomialFeatures())])</pre></div></div></div><div class=\"sk-serial\"><div class=\"sk-item sk-dashed-wrapped\"><div class=\"sk-label-container\"><div class=\"sk-label sk-toggleable\"><input class=\"sk-toggleable__control sk-hidden--visually\" id=\"sk-estimator-id-680\" type=\"checkbox\" ><label for=\"sk-estimator-id-680\" class=\"sk-toggleable__label sk-toggleable__label-arrow\">columntransformer: ColumnTransformer</label><div class=\"sk-toggleable__content\"><pre>ColumnTransformer(transformers=[(&#x27;pipeline-1&#x27;,\n",
       "                                 Pipeline(steps=[(&#x27;standardscaler&#x27;,\n",
       "                                                  StandardScaler())]),\n",
       "                                 [&#x27;age&#x27;, &#x27;bmi&#x27;, &#x27;children&#x27;]),\n",
       "                                (&#x27;pipeline-2&#x27;,\n",
       "                                 Pipeline(steps=[(&#x27;onehotencoder&#x27;,\n",
       "                                                  OneHotEncoder())]),\n",
       "                                 [&#x27;sex&#x27;, &#x27;smoker&#x27;, &#x27;region&#x27;])])</pre></div></div></div><div class=\"sk-parallel\"><div class=\"sk-parallel-item\"><div class=\"sk-item\"><div class=\"sk-label-container\"><div class=\"sk-label sk-toggleable\"><input class=\"sk-toggleable__control sk-hidden--visually\" id=\"sk-estimator-id-681\" type=\"checkbox\" ><label for=\"sk-estimator-id-681\" class=\"sk-toggleable__label sk-toggleable__label-arrow\">pipeline-1</label><div class=\"sk-toggleable__content\"><pre>[&#x27;age&#x27;, &#x27;bmi&#x27;, &#x27;children&#x27;]</pre></div></div></div><div class=\"sk-serial\"><div class=\"sk-item\"><div class=\"sk-serial\"><div class=\"sk-item\"><div class=\"sk-estimator sk-toggleable\"><input class=\"sk-toggleable__control sk-hidden--visually\" id=\"sk-estimator-id-682\" type=\"checkbox\" ><label for=\"sk-estimator-id-682\" class=\"sk-toggleable__label sk-toggleable__label-arrow\">StandardScaler</label><div class=\"sk-toggleable__content\"><pre>StandardScaler()</pre></div></div></div></div></div></div></div></div><div class=\"sk-parallel-item\"><div class=\"sk-item\"><div class=\"sk-label-container\"><div class=\"sk-label sk-toggleable\"><input class=\"sk-toggleable__control sk-hidden--visually\" id=\"sk-estimator-id-683\" type=\"checkbox\" ><label for=\"sk-estimator-id-683\" class=\"sk-toggleable__label sk-toggleable__label-arrow\">pipeline-2</label><div class=\"sk-toggleable__content\"><pre>[&#x27;sex&#x27;, &#x27;smoker&#x27;, &#x27;region&#x27;]</pre></div></div></div><div class=\"sk-serial\"><div class=\"sk-item\"><div class=\"sk-serial\"><div class=\"sk-item\"><div class=\"sk-estimator sk-toggleable\"><input class=\"sk-toggleable__control sk-hidden--visually\" id=\"sk-estimator-id-684\" type=\"checkbox\" ><label for=\"sk-estimator-id-684\" class=\"sk-toggleable__label sk-toggleable__label-arrow\">OneHotEncoder</label><div class=\"sk-toggleable__content\"><pre>OneHotEncoder()</pre></div></div></div></div></div></div></div></div></div></div><div class=\"sk-item\"><div class=\"sk-estimator sk-toggleable\"><input class=\"sk-toggleable__control sk-hidden--visually\" id=\"sk-estimator-id-685\" type=\"checkbox\" ><label for=\"sk-estimator-id-685\" class=\"sk-toggleable__label sk-toggleable__label-arrow\">PolynomialFeatures</label><div class=\"sk-toggleable__content\"><pre>PolynomialFeatures()</pre></div></div></div></div></div><div class=\"sk-item\"><div class=\"sk-estimator sk-toggleable\"><input class=\"sk-toggleable__control sk-hidden--visually\" id=\"sk-estimator-id-686\" type=\"checkbox\" ><label for=\"sk-estimator-id-686\" class=\"sk-toggleable__label sk-toggleable__label-arrow\">ElasticNet</label><div class=\"sk-toggleable__content\"><pre>ElasticNet(alpha=9.0, l1_ratio=1)</pre></div></div></div></div></div></div></div>"
      ],
      "text/plain": [
       "Pipeline(steps=[('pipeline',\n",
       "                 Pipeline(steps=[('columntransformer',\n",
       "                                  ColumnTransformer(transformers=[('pipeline-1',\n",
       "                                                                   Pipeline(steps=[('standardscaler',\n",
       "                                                                                    StandardScaler())]),\n",
       "                                                                   ['age',\n",
       "                                                                    'bmi',\n",
       "                                                                    'children']),\n",
       "                                                                  ('pipeline-2',\n",
       "                                                                   Pipeline(steps=[('onehotencoder',\n",
       "                                                                                    OneHotEncoder())]),\n",
       "                                                                   ['sex',\n",
       "                                                                    'smoker',\n",
       "                                                                    'region'])])),\n",
       "                                 ('polynomialfeatures',\n",
       "                                  PolynomialFeatures())])),\n",
       "                ('elasticnet', ElasticNet(alpha=9.0, l1_ratio=1))])"
      ]
     },
     "execution_count": 1184,
     "metadata": {},
     "output_type": "execute_result"
    }
   ],
   "source": [
    "grid_search.best_estimator_"
   ]
  },
  {
   "cell_type": "code",
   "execution_count": 1185,
   "metadata": {},
   "outputs": [],
   "source": [
    "best_pipe_el = grid_search.best_estimator_"
   ]
  },
  {
   "cell_type": "code",
   "execution_count": 1186,
   "metadata": {},
   "outputs": [
    {
     "data": {
      "text/plain": [
       "0.8186261746446013"
      ]
     },
     "execution_count": 1186,
     "metadata": {},
     "output_type": "execute_result"
    }
   ],
   "source": [
    "grid_search.best_score_"
   ]
  },
  {
   "cell_type": "code",
   "execution_count": 1187,
   "metadata": {},
   "outputs": [
    {
     "data": {
      "text/html": [
       "<style>#sk-container-id-76 {color: black;background-color: white;}#sk-container-id-76 pre{padding: 0;}#sk-container-id-76 div.sk-toggleable {background-color: white;}#sk-container-id-76 label.sk-toggleable__label {cursor: pointer;display: block;width: 100%;margin-bottom: 0;padding: 0.3em;box-sizing: border-box;text-align: center;}#sk-container-id-76 label.sk-toggleable__label-arrow:before {content: \"▸\";float: left;margin-right: 0.25em;color: #696969;}#sk-container-id-76 label.sk-toggleable__label-arrow:hover:before {color: black;}#sk-container-id-76 div.sk-estimator:hover label.sk-toggleable__label-arrow:before {color: black;}#sk-container-id-76 div.sk-toggleable__content {max-height: 0;max-width: 0;overflow: hidden;text-align: left;background-color: #f0f8ff;}#sk-container-id-76 div.sk-toggleable__content pre {margin: 0.2em;color: black;border-radius: 0.25em;background-color: #f0f8ff;}#sk-container-id-76 input.sk-toggleable__control:checked~div.sk-toggleable__content {max-height: 200px;max-width: 100%;overflow: auto;}#sk-container-id-76 input.sk-toggleable__control:checked~label.sk-toggleable__label-arrow:before {content: \"▾\";}#sk-container-id-76 div.sk-estimator input.sk-toggleable__control:checked~label.sk-toggleable__label {background-color: #d4ebff;}#sk-container-id-76 div.sk-label input.sk-toggleable__control:checked~label.sk-toggleable__label {background-color: #d4ebff;}#sk-container-id-76 input.sk-hidden--visually {border: 0;clip: rect(1px 1px 1px 1px);clip: rect(1px, 1px, 1px, 1px);height: 1px;margin: -1px;overflow: hidden;padding: 0;position: absolute;width: 1px;}#sk-container-id-76 div.sk-estimator {font-family: monospace;background-color: #f0f8ff;border: 1px dotted black;border-radius: 0.25em;box-sizing: border-box;margin-bottom: 0.5em;}#sk-container-id-76 div.sk-estimator:hover {background-color: #d4ebff;}#sk-container-id-76 div.sk-parallel-item::after {content: \"\";width: 100%;border-bottom: 1px solid gray;flex-grow: 1;}#sk-container-id-76 div.sk-label:hover label.sk-toggleable__label {background-color: #d4ebff;}#sk-container-id-76 div.sk-serial::before {content: \"\";position: absolute;border-left: 1px solid gray;box-sizing: border-box;top: 0;bottom: 0;left: 50%;z-index: 0;}#sk-container-id-76 div.sk-serial {display: flex;flex-direction: column;align-items: center;background-color: white;padding-right: 0.2em;padding-left: 0.2em;position: relative;}#sk-container-id-76 div.sk-item {position: relative;z-index: 1;}#sk-container-id-76 div.sk-parallel {display: flex;align-items: stretch;justify-content: center;background-color: white;position: relative;}#sk-container-id-76 div.sk-item::before, #sk-container-id-76 div.sk-parallel-item::before {content: \"\";position: absolute;border-left: 1px solid gray;box-sizing: border-box;top: 0;bottom: 0;left: 50%;z-index: -1;}#sk-container-id-76 div.sk-parallel-item {display: flex;flex-direction: column;z-index: 1;position: relative;background-color: white;}#sk-container-id-76 div.sk-parallel-item:first-child::after {align-self: flex-end;width: 50%;}#sk-container-id-76 div.sk-parallel-item:last-child::after {align-self: flex-start;width: 50%;}#sk-container-id-76 div.sk-parallel-item:only-child::after {width: 0;}#sk-container-id-76 div.sk-dashed-wrapped {border: 1px dashed gray;margin: 0 0.4em 0.5em 0.4em;box-sizing: border-box;padding-bottom: 0.4em;background-color: white;}#sk-container-id-76 div.sk-label label {font-family: monospace;font-weight: bold;display: inline-block;line-height: 1.2em;}#sk-container-id-76 div.sk-label-container {text-align: center;}#sk-container-id-76 div.sk-container {/* jupyter's `normalize.less` sets `[hidden] { display: none; }` but bootstrap.min.css set `[hidden] { display: none !important; }` so we also need the `!important` here to be able to override the default hidden behavior on the sphinx rendered scikit-learn.org. See: https://github.com/scikit-learn/scikit-learn/issues/21755 */display: inline-block !important;position: relative;}#sk-container-id-76 div.sk-text-repr-fallback {display: none;}</style><div id=\"sk-container-id-76\" class=\"sk-top-container\"><div class=\"sk-text-repr-fallback\"><pre>Pipeline(steps=[(&#x27;pipeline&#x27;,\n",
       "                 Pipeline(steps=[(&#x27;columntransformer&#x27;,\n",
       "                                  ColumnTransformer(transformers=[(&#x27;pipeline-1&#x27;,\n",
       "                                                                   Pipeline(steps=[(&#x27;standardscaler&#x27;,\n",
       "                                                                                    StandardScaler())]),\n",
       "                                                                   [&#x27;age&#x27;,\n",
       "                                                                    &#x27;bmi&#x27;,\n",
       "                                                                    &#x27;children&#x27;]),\n",
       "                                                                  (&#x27;pipeline-2&#x27;,\n",
       "                                                                   Pipeline(steps=[(&#x27;onehotencoder&#x27;,\n",
       "                                                                                    OneHotEncoder())]),\n",
       "                                                                   [&#x27;sex&#x27;,\n",
       "                                                                    &#x27;smoker&#x27;,\n",
       "                                                                    &#x27;region&#x27;])])),\n",
       "                                 (&#x27;polynomialfeatures&#x27;,\n",
       "                                  PolynomialFeatures())])),\n",
       "                (&#x27;elasticnet&#x27;, ElasticNet())])</pre><b>In a Jupyter environment, please rerun this cell to show the HTML representation or trust the notebook. <br />On GitHub, the HTML representation is unable to render, please try loading this page with nbviewer.org.</b></div><div class=\"sk-container\" hidden><div class=\"sk-item sk-dashed-wrapped\"><div class=\"sk-label-container\"><div class=\"sk-label sk-toggleable\"><input class=\"sk-toggleable__control sk-hidden--visually\" id=\"sk-estimator-id-687\" type=\"checkbox\" ><label for=\"sk-estimator-id-687\" class=\"sk-toggleable__label sk-toggleable__label-arrow\">Pipeline</label><div class=\"sk-toggleable__content\"><pre>Pipeline(steps=[(&#x27;pipeline&#x27;,\n",
       "                 Pipeline(steps=[(&#x27;columntransformer&#x27;,\n",
       "                                  ColumnTransformer(transformers=[(&#x27;pipeline-1&#x27;,\n",
       "                                                                   Pipeline(steps=[(&#x27;standardscaler&#x27;,\n",
       "                                                                                    StandardScaler())]),\n",
       "                                                                   [&#x27;age&#x27;,\n",
       "                                                                    &#x27;bmi&#x27;,\n",
       "                                                                    &#x27;children&#x27;]),\n",
       "                                                                  (&#x27;pipeline-2&#x27;,\n",
       "                                                                   Pipeline(steps=[(&#x27;onehotencoder&#x27;,\n",
       "                                                                                    OneHotEncoder())]),\n",
       "                                                                   [&#x27;sex&#x27;,\n",
       "                                                                    &#x27;smoker&#x27;,\n",
       "                                                                    &#x27;region&#x27;])])),\n",
       "                                 (&#x27;polynomialfeatures&#x27;,\n",
       "                                  PolynomialFeatures())])),\n",
       "                (&#x27;elasticnet&#x27;, ElasticNet())])</pre></div></div></div><div class=\"sk-serial\"><div class=\"sk-item\"><div class=\"sk-label-container\"><div class=\"sk-label sk-toggleable\"><input class=\"sk-toggleable__control sk-hidden--visually\" id=\"sk-estimator-id-688\" type=\"checkbox\" ><label for=\"sk-estimator-id-688\" class=\"sk-toggleable__label sk-toggleable__label-arrow\">pipeline: Pipeline</label><div class=\"sk-toggleable__content\"><pre>Pipeline(steps=[(&#x27;columntransformer&#x27;,\n",
       "                 ColumnTransformer(transformers=[(&#x27;pipeline-1&#x27;,\n",
       "                                                  Pipeline(steps=[(&#x27;standardscaler&#x27;,\n",
       "                                                                   StandardScaler())]),\n",
       "                                                  [&#x27;age&#x27;, &#x27;bmi&#x27;, &#x27;children&#x27;]),\n",
       "                                                 (&#x27;pipeline-2&#x27;,\n",
       "                                                  Pipeline(steps=[(&#x27;onehotencoder&#x27;,\n",
       "                                                                   OneHotEncoder())]),\n",
       "                                                  [&#x27;sex&#x27;, &#x27;smoker&#x27;,\n",
       "                                                   &#x27;region&#x27;])])),\n",
       "                (&#x27;polynomialfeatures&#x27;, PolynomialFeatures())])</pre></div></div></div><div class=\"sk-serial\"><div class=\"sk-item sk-dashed-wrapped\"><div class=\"sk-label-container\"><div class=\"sk-label sk-toggleable\"><input class=\"sk-toggleable__control sk-hidden--visually\" id=\"sk-estimator-id-689\" type=\"checkbox\" ><label for=\"sk-estimator-id-689\" class=\"sk-toggleable__label sk-toggleable__label-arrow\">columntransformer: ColumnTransformer</label><div class=\"sk-toggleable__content\"><pre>ColumnTransformer(transformers=[(&#x27;pipeline-1&#x27;,\n",
       "                                 Pipeline(steps=[(&#x27;standardscaler&#x27;,\n",
       "                                                  StandardScaler())]),\n",
       "                                 [&#x27;age&#x27;, &#x27;bmi&#x27;, &#x27;children&#x27;]),\n",
       "                                (&#x27;pipeline-2&#x27;,\n",
       "                                 Pipeline(steps=[(&#x27;onehotencoder&#x27;,\n",
       "                                                  OneHotEncoder())]),\n",
       "                                 [&#x27;sex&#x27;, &#x27;smoker&#x27;, &#x27;region&#x27;])])</pre></div></div></div><div class=\"sk-parallel\"><div class=\"sk-parallel-item\"><div class=\"sk-item\"><div class=\"sk-label-container\"><div class=\"sk-label sk-toggleable\"><input class=\"sk-toggleable__control sk-hidden--visually\" id=\"sk-estimator-id-690\" type=\"checkbox\" ><label for=\"sk-estimator-id-690\" class=\"sk-toggleable__label sk-toggleable__label-arrow\">pipeline-1</label><div class=\"sk-toggleable__content\"><pre>[&#x27;age&#x27;, &#x27;bmi&#x27;, &#x27;children&#x27;]</pre></div></div></div><div class=\"sk-serial\"><div class=\"sk-item\"><div class=\"sk-serial\"><div class=\"sk-item\"><div class=\"sk-estimator sk-toggleable\"><input class=\"sk-toggleable__control sk-hidden--visually\" id=\"sk-estimator-id-691\" type=\"checkbox\" ><label for=\"sk-estimator-id-691\" class=\"sk-toggleable__label sk-toggleable__label-arrow\">StandardScaler</label><div class=\"sk-toggleable__content\"><pre>StandardScaler()</pre></div></div></div></div></div></div></div></div><div class=\"sk-parallel-item\"><div class=\"sk-item\"><div class=\"sk-label-container\"><div class=\"sk-label sk-toggleable\"><input class=\"sk-toggleable__control sk-hidden--visually\" id=\"sk-estimator-id-692\" type=\"checkbox\" ><label for=\"sk-estimator-id-692\" class=\"sk-toggleable__label sk-toggleable__label-arrow\">pipeline-2</label><div class=\"sk-toggleable__content\"><pre>[&#x27;sex&#x27;, &#x27;smoker&#x27;, &#x27;region&#x27;]</pre></div></div></div><div class=\"sk-serial\"><div class=\"sk-item\"><div class=\"sk-serial\"><div class=\"sk-item\"><div class=\"sk-estimator sk-toggleable\"><input class=\"sk-toggleable__control sk-hidden--visually\" id=\"sk-estimator-id-693\" type=\"checkbox\" ><label for=\"sk-estimator-id-693\" class=\"sk-toggleable__label sk-toggleable__label-arrow\">OneHotEncoder</label><div class=\"sk-toggleable__content\"><pre>OneHotEncoder()</pre></div></div></div></div></div></div></div></div></div></div><div class=\"sk-item\"><div class=\"sk-estimator sk-toggleable\"><input class=\"sk-toggleable__control sk-hidden--visually\" id=\"sk-estimator-id-694\" type=\"checkbox\" ><label for=\"sk-estimator-id-694\" class=\"sk-toggleable__label sk-toggleable__label-arrow\">PolynomialFeatures</label><div class=\"sk-toggleable__content\"><pre>PolynomialFeatures()</pre></div></div></div></div></div><div class=\"sk-item\"><div class=\"sk-estimator sk-toggleable\"><input class=\"sk-toggleable__control sk-hidden--visually\" id=\"sk-estimator-id-695\" type=\"checkbox\" ><label for=\"sk-estimator-id-695\" class=\"sk-toggleable__label sk-toggleable__label-arrow\">ElasticNet</label><div class=\"sk-toggleable__content\"><pre>ElasticNet()</pre></div></div></div></div></div></div></div>"
      ],
      "text/plain": [
       "Pipeline(steps=[('pipeline',\n",
       "                 Pipeline(steps=[('columntransformer',\n",
       "                                  ColumnTransformer(transformers=[('pipeline-1',\n",
       "                                                                   Pipeline(steps=[('standardscaler',\n",
       "                                                                                    StandardScaler())]),\n",
       "                                                                   ['age',\n",
       "                                                                    'bmi',\n",
       "                                                                    'children']),\n",
       "                                                                  ('pipeline-2',\n",
       "                                                                   Pipeline(steps=[('onehotencoder',\n",
       "                                                                                    OneHotEncoder())]),\n",
       "                                                                   ['sex',\n",
       "                                                                    'smoker',\n",
       "                                                                    'region'])])),\n",
       "                                 ('polynomialfeatures',\n",
       "                                  PolynomialFeatures())])),\n",
       "                ('elasticnet', ElasticNet())])"
      ]
     },
     "execution_count": 1187,
     "metadata": {},
     "output_type": "execute_result"
    }
   ],
   "source": [
    "# Modèle Elastic Net\n",
    "\n",
    "model_elastic = make_pipeline(preprocessing, ElasticNet())\n",
    "\n",
    "\n",
    "model_elastic.fit(X_train, y_train)\n"
   ]
  },
  {
   "cell_type": "markdown",
   "metadata": {},
   "source": [
    "### Résidus"
   ]
  },
  {
   "cell_type": "code",
   "execution_count": 1188,
   "metadata": {},
   "outputs": [
    {
     "data": {
      "image/png": "[encoded data removed]",
      "text/plain": [
       "<Figure size 640x480 with 1 Axes>"
      ]
     },
     "metadata": {},
     "output_type": "display_data"
    }
   ],
   "source": [
    "y_pred = model_lr.predict(X_train)\n",
    "\n",
    "residual = (y_train - y_pred).abs()\n",
    "\n",
    "sns.scatterplot(residual)\n",
    "plt.title('Poids des résidus')\n",
    "plt.ylabel('Erreur')\n",
    "plt.show()"
   ]
  },
  {
   "cell_type": "code",
   "execution_count": 1189,
   "metadata": {},
   "outputs": [],
   "source": [
    "to_drop = residual[residual > 14500].index"
   ]
  },
  {
   "cell_type": "code",
   "execution_count": 1190,
   "metadata": {},
   "outputs": [],
   "source": [
    "X_train_new = X_train.drop(to_drop)\n",
    "y_train_new = y_train.drop(to_drop)"
   ]
  },
  {
   "cell_type": "code",
   "execution_count": 1191,
   "metadata": {},
   "outputs": [
    {
     "data": {
      "text/plain": [
       "0.9072895930412954"
      ]
     },
     "execution_count": 1191,
     "metadata": {},
     "output_type": "execute_result"
    }
   ],
   "source": [
    "\n",
    "\n",
    "model_lr.fit(X_train_new,y_train_new)\n",
    "cross_val_score(model_lr, X_train_new, y_train_new, cv=5).mean()"
   ]
  },
  {
   "cell_type": "code",
   "execution_count": 1192,
   "metadata": {},
   "outputs": [
    {
     "data": {
      "text/plain": [
       "89.73673767578205"
      ]
     },
     "execution_count": 1192,
     "metadata": {},
     "output_type": "execute_result"
    }
   ],
   "source": [
    "model_lr.score(X_test, y_test)*100"
   ]
  },
  {
   "cell_type": "code",
   "execution_count": 1193,
   "metadata": {},
   "outputs": [
    {
     "data": {
      "image/png": "[encoded data removed]",
      "text/plain": [
       "<Figure size 1000x600 with 1 Axes>"
      ]
     },
     "metadata": {},
     "output_type": "display_data"
    }
   ],
   "source": [
    "model_lr.fit(X_train,y_train)\n",
    "y_pred = model_lr.predict(X_train)\n",
    "plt.subplots(figsize=(10, 6))\n",
    "plt.scatter(y_pred,y_train,marker=\"+\",s=50, label=\"nuage de points representant les données\")\n",
    "plt.plot(np.arange(max(y_test.values)), np.arange(max(y_test.values)), '-', color='r', label=\"droite de regression linéaire\")\n",
    "plt.show()"
   ]
  },
  {
   "cell_type": "code",
   "execution_count": 1194,
   "metadata": {},
   "outputs": [
    {
     "name": "stdout",
     "output_type": "stream",
     "text": [
      "78\n"
     ]
    }
   ],
   "source": [
    "print(len(model_lr[-1].coef_))"
   ]
  },
  {
   "cell_type": "code",
   "execution_count": 1195,
   "metadata": {},
   "outputs": [
    {
     "data": {
      "text/plain": [
       "array(['1', 'pipeline-1__age', 'pipeline-1__bmi', 'pipeline-1__children',\n",
       "       'pipeline-2__sex_female', 'pipeline-2__sex_male',\n",
       "       'pipeline-2__smoker_no', 'pipeline-2__smoker_yes',\n",
       "       'pipeline-2__region_northeast', 'pipeline-2__region_northwest',\n",
       "       'pipeline-2__region_southeast', 'pipeline-2__region_southwest',\n",
       "       'pipeline-1__age^2', 'pipeline-1__age pipeline-1__bmi',\n",
       "       'pipeline-1__age pipeline-1__children',\n",
       "       'pipeline-1__age pipeline-2__sex_female',\n",
       "       'pipeline-1__age pipeline-2__sex_male',\n",
       "       'pipeline-1__age pipeline-2__smoker_no',\n",
       "       'pipeline-1__age pipeline-2__smoker_yes',\n",
       "       'pipeline-1__age pipeline-2__region_northeast',\n",
       "       'pipeline-1__age pipeline-2__region_northwest',\n",
       "       'pipeline-1__age pipeline-2__region_southeast',\n",
       "       'pipeline-1__age pipeline-2__region_southwest',\n",
       "       'pipeline-1__bmi^2', 'pipeline-1__bmi pipeline-1__children',\n",
       "       'pipeline-1__bmi pipeline-2__sex_female',\n",
       "       'pipeline-1__bmi pipeline-2__sex_male',\n",
       "       'pipeline-1__bmi pipeline-2__smoker_no',\n",
       "       'pipeline-1__bmi pipeline-2__smoker_yes',\n",
       "       'pipeline-1__bmi pipeline-2__region_northeast',\n",
       "       'pipeline-1__bmi pipeline-2__region_northwest',\n",
       "       'pipeline-1__bmi pipeline-2__region_southeast',\n",
       "       'pipeline-1__bmi pipeline-2__region_southwest',\n",
       "       'pipeline-1__children^2',\n",
       "       'pipeline-1__children pipeline-2__sex_female',\n",
       "       'pipeline-1__children pipeline-2__sex_male',\n",
       "       'pipeline-1__children pipeline-2__smoker_no',\n",
       "       'pipeline-1__children pipeline-2__smoker_yes',\n",
       "       'pipeline-1__children pipeline-2__region_northeast',\n",
       "       'pipeline-1__children pipeline-2__region_northwest',\n",
       "       'pipeline-1__children pipeline-2__region_southeast',\n",
       "       'pipeline-1__children pipeline-2__region_southwest',\n",
       "       'pipeline-2__sex_female^2',\n",
       "       'pipeline-2__sex_female pipeline-2__sex_male',\n",
       "       'pipeline-2__sex_female pipeline-2__smoker_no',\n",
       "       'pipeline-2__sex_female pipeline-2__smoker_yes',\n",
       "       'pipeline-2__sex_female pipeline-2__region_northeast',\n",
       "       'pipeline-2__sex_female pipeline-2__region_northwest',\n",
       "       'pipeline-2__sex_female pipeline-2__region_southeast',\n",
       "       'pipeline-2__sex_female pipeline-2__region_southwest',\n",
       "       'pipeline-2__sex_male^2',\n",
       "       'pipeline-2__sex_male pipeline-2__smoker_no',\n",
       "       'pipeline-2__sex_male pipeline-2__smoker_yes',\n",
       "       'pipeline-2__sex_male pipeline-2__region_northeast',\n",
       "       'pipeline-2__sex_male pipeline-2__region_northwest',\n",
       "       'pipeline-2__sex_male pipeline-2__region_southeast',\n",
       "       'pipeline-2__sex_male pipeline-2__region_southwest',\n",
       "       'pipeline-2__smoker_no^2',\n",
       "       'pipeline-2__smoker_no pipeline-2__smoker_yes',\n",
       "       'pipeline-2__smoker_no pipeline-2__region_northeast',\n",
       "       'pipeline-2__smoker_no pipeline-2__region_northwest',\n",
       "       'pipeline-2__smoker_no pipeline-2__region_southeast',\n",
       "       'pipeline-2__smoker_no pipeline-2__region_southwest',\n",
       "       'pipeline-2__smoker_yes^2',\n",
       "       'pipeline-2__smoker_yes pipeline-2__region_northeast',\n",
       "       'pipeline-2__smoker_yes pipeline-2__region_northwest',\n",
       "       'pipeline-2__smoker_yes pipeline-2__region_southeast',\n",
       "       'pipeline-2__smoker_yes pipeline-2__region_southwest',\n",
       "       'pipeline-2__region_northeast^2',\n",
       "       'pipeline-2__region_northeast pipeline-2__region_northwest',\n",
       "       'pipeline-2__region_northeast pipeline-2__region_southeast',\n",
       "       'pipeline-2__region_northeast pipeline-2__region_southwest',\n",
       "       'pipeline-2__region_northwest^2',\n",
       "       'pipeline-2__region_northwest pipeline-2__region_southeast',\n",
       "       'pipeline-2__region_northwest pipeline-2__region_southwest',\n",
       "       'pipeline-2__region_southeast^2',\n",
       "       'pipeline-2__region_southeast pipeline-2__region_southwest',\n",
       "       'pipeline-2__region_southwest^2'], dtype=object)"
      ]
     },
     "execution_count": 1195,
     "metadata": {},
     "output_type": "execute_result"
    }
   ],
   "source": [
    "model_lr[:-1].get_feature_names_out()"
   ]
  },
  {
   "cell_type": "code",
   "execution_count": 1196,
   "metadata": {},
   "outputs": [
    {
     "data": {
      "text/plain": [
       "1.2907729302037221e+17"
      ]
     },
     "execution_count": 1196,
     "metadata": {},
     "output_type": "execute_result"
    }
   ],
   "source": [
    "model_lr[-1].intercept_"
   ]
  },
  {
   "cell_type": "code",
   "execution_count": 1197,
   "metadata": {},
   "outputs": [
    {
     "data": {
      "image/png": "[encoded data removed]",
      "text/plain": [
       "<Figure size 640x480 with 1 Axes>"
      ]
     },
     "metadata": {},
     "output_type": "display_data"
    }
   ],
   "source": [
    "# Courbe d'apprentissage\n",
    "\n",
    "train_sizes, train_scores, test_scores, fit_times, _ = learning_curve(model_lr,X_train,y_train,return_times=True)\n",
    "                                           \n",
    "plt.title(\"Courbe d'apprentissage\")                                           \n",
    "plt.plot(train_sizes, train_scores.mean(axis=1), label='train')\n",
    "plt.plot(train_sizes, test_scores.mean(axis=1), label='validation')\n",
    "plt.xlabel('train_sizes')\n",
    "plt.legend()\n",
    "plt.show()"
   ]
  },
  {
   "cell_type": "code",
   "execution_count": 1198,
   "metadata": {},
   "outputs": [],
   "source": [
    "import pickle\n",
    "\n",
    "# Enregistrez le modèle dans un fichier pickle\n",
    "with open('model.pkl', 'wb') as file:\n",
    "  pickle.dump(model_lr, file)"
   ]
  },
  {
   "cell_type": "markdown",
   "metadata": {},
   "source": [
    "### Seuil de Cook"
   ]
  },
  {
   "cell_type": "code",
   "execution_count": 1199,
   "metadata": {},
   "outputs": [],
   "source": [
    "from statsmodels.formula.api import ols\n",
    "from statsmodels.api import OLS\n",
    "import statsmodels.api as sm\n",
    "from statsmodels.stats.outliers_influence import variance_inflation_factor as vif\n",
    "\n",
    "X_cook= preprocessing.transform(X_train)\n",
    "X_cook_columns= preprocessing.get_feature_names_out()\n",
    "newdf= pd.DataFrame(X_cook).set_index(y_train.index)\n",
    "newdf.columns = X_cook_columns\n",
    "\n",
    "X_cook=sm.add_constant(X_cook)\n",
    "model_lr= OLS(y_train , X_cook).fit()\n",
    "influence = model_lr.get_influence().cooks_distance[0]\n",
    "cooks_distance = influence\n",
    "\n",
    "analyse=X_train.copy()\n",
    "analyse['dcooks'] = influence\n",
    "n= X_train.shape[0]\n",
    "p = X_train.shape[1]\n",
    "seuil_dcook = 4/n\n",
    "\n",
    "residual_indice=analyse[analyse['dcooks']>seuil_dcook].index\n",
    "residual_indice.size\n",
    "\n",
    "X_train.drop(residual_indice, inplace=True)\n",
    "y_train.drop(residual_indice, inplace=True)\n"
   ]
  },
  {
   "cell_type": "code",
   "execution_count": 1200,
   "metadata": {},
   "outputs": [
    {
     "data": {
      "image/png": "[encoded data removed]",
      "text/plain": [
       "<Figure size 1000x600 with 1 Axes>"
      ]
     },
     "metadata": {},
     "output_type": "display_data"
    }
   ],
   "source": [
    "plt.figure(figsize=(10,6))\n",
    "plt.bar(analyse.index, analyse['dcooks'])\n",
    "# plt.xticks(np.arange(0, 200, step=1))\n",
    "plt.xlabel('Observations')\n",
    "plt.ylabel('Seuil de Cook')\n",
    "plt.plot([0, 1400], [seuil_dcook, seuil_dcook], color='r')\n",
    "plt.show()"
   ]
  },
  {
   "cell_type": "code",
   "execution_count": 1201,
   "metadata": {},
   "outputs": [
    {
     "ename": "TypeError",
     "evalue": "estimator should be an estimator implementing 'fit' method, <statsmodels.regression.linear_model.RegressionResultsWrapper object at 0x7fe2e3d9cf10> was passed",
     "output_type": "error",
     "traceback": [
      "\u001b[0;31m---------------------------------------------------------------------------\u001b[0m",
      "\u001b[0;31mTypeError\u001b[0m                                 Traceback (most recent call last)",
      "Cell \u001b[0;32mIn [1201], line 1\u001b[0m\n\u001b[0;32m----> 1\u001b[0m cross_val\u001b[39m=\u001b[39mcross_val_score(model_lr, X_train, y_train,cv\u001b[39m=\u001b[39;49m\u001b[39m5\u001b[39;49m)\n\u001b[1;32m      2\u001b[0m \u001b[39mprint\u001b[39m(cross_val)\n\u001b[1;32m      3\u001b[0m cross_val[\u001b[39m'\u001b[39m\u001b[39mtest_score\u001b[39m\u001b[39m'\u001b[39m]\u001b[39m.\u001b[39mmean()\n",
      "File \u001b[0;32m~/miniconda3/envs/data_anayse_env/lib/python3.9/site-packages/sklearn/model_selection/_validation.py:513\u001b[0m, in \u001b[0;36mcross_val_score\u001b[0;34m(estimator, X, y, groups, scoring, cv, n_jobs, verbose, fit_params, pre_dispatch, error_score)\u001b[0m\n\u001b[1;32m    395\u001b[0m \u001b[39m\"\"\"Evaluate a score by cross-validation.\u001b[39;00m\n\u001b[1;32m    396\u001b[0m \n\u001b[1;32m    397\u001b[0m \u001b[39mRead more in the :ref:`User Guide <cross_validation>`.\u001b[39;00m\n\u001b[0;32m   (...)\u001b[0m\n\u001b[1;32m    510\u001b[0m \u001b[39m[0.3315057  0.08022103 0.03531816]\u001b[39;00m\n\u001b[1;32m    511\u001b[0m \u001b[39m\"\"\"\u001b[39;00m\n\u001b[1;32m    512\u001b[0m \u001b[39m# To ensure multimetric format is not supported\u001b[39;00m\n\u001b[0;32m--> 513\u001b[0m scorer \u001b[39m=\u001b[39m check_scoring(estimator, scoring\u001b[39m=\u001b[39;49mscoring)\n\u001b[1;32m    515\u001b[0m cv_results \u001b[39m=\u001b[39m cross_validate(\n\u001b[1;32m    516\u001b[0m     estimator\u001b[39m=\u001b[39mestimator,\n\u001b[1;32m    517\u001b[0m     X\u001b[39m=\u001b[39mX,\n\u001b[0;32m   (...)\u001b[0m\n\u001b[1;32m    526\u001b[0m     error_score\u001b[39m=\u001b[39merror_score,\n\u001b[1;32m    527\u001b[0m )\n\u001b[1;32m    528\u001b[0m \u001b[39mreturn\u001b[39;00m cv_results[\u001b[39m\"\u001b[39m\u001b[39mtest_score\u001b[39m\u001b[39m\"\u001b[39m]\n",
      "File \u001b[0;32m~/miniconda3/envs/data_anayse_env/lib/python3.9/site-packages/sklearn/metrics/_scorer.py:460\u001b[0m, in \u001b[0;36mcheck_scoring\u001b[0;34m(estimator, scoring, allow_none)\u001b[0m\n\u001b[1;32m    434\u001b[0m \u001b[39m\"\"\"Determine scorer from user options.\u001b[39;00m\n\u001b[1;32m    435\u001b[0m \n\u001b[1;32m    436\u001b[0m \u001b[39mA TypeError will be thrown if the estimator cannot be scored.\u001b[39;00m\n\u001b[0;32m   (...)\u001b[0m\n\u001b[1;32m    457\u001b[0m \u001b[39m    ``scorer(estimator, X, y)``.\u001b[39;00m\n\u001b[1;32m    458\u001b[0m \u001b[39m\"\"\"\u001b[39;00m\n\u001b[1;32m    459\u001b[0m \u001b[39mif\u001b[39;00m \u001b[39mnot\u001b[39;00m \u001b[39mhasattr\u001b[39m(estimator, \u001b[39m\"\u001b[39m\u001b[39mfit\u001b[39m\u001b[39m\"\u001b[39m):\n\u001b[0;32m--> 460\u001b[0m     \u001b[39mraise\u001b[39;00m \u001b[39mTypeError\u001b[39;00m(\n\u001b[1;32m    461\u001b[0m         \u001b[39m\"\u001b[39m\u001b[39mestimator should be an estimator implementing \u001b[39m\u001b[39m'\u001b[39m\u001b[39mfit\u001b[39m\u001b[39m'\u001b[39m\u001b[39m method, \u001b[39m\u001b[39m%r\u001b[39;00m\u001b[39m was passed\u001b[39m\u001b[39m\"\u001b[39m\n\u001b[1;32m    462\u001b[0m         \u001b[39m%\u001b[39m estimator\n\u001b[1;32m    463\u001b[0m     )\n\u001b[1;32m    464\u001b[0m \u001b[39mif\u001b[39;00m \u001b[39misinstance\u001b[39m(scoring, \u001b[39mstr\u001b[39m):\n\u001b[1;32m    465\u001b[0m     \u001b[39mreturn\u001b[39;00m get_scorer(scoring)\n",
      "\u001b[0;31mTypeError\u001b[0m: estimator should be an estimator implementing 'fit' method, <statsmodels.regression.linear_model.RegressionResultsWrapper object at 0x7fe2e3d9cf10> was passed"
     ]
    }
   ],
   "source": [
    "cross_val=cross_val_score(model_lr, X_train, y_train,cv=5)\n",
    "print(cross_val)\n",
    "cross_val['test_score'].mean()"
   ]
  },
  {
   "cell_type": "code",
   "execution_count": null,
   "metadata": {},
   "outputs": [],
   "source": [
    "cross_val=cross_val_score(model_lr, X_train, y_train,scoring='neg_root_mean_squared_error' ,cv=5)\n",
    "print(cross_val)\n",
    "cross_val['test_score'].mean()"
   ]
  },
  {
   "cell_type": "code",
   "execution_count": null,
   "metadata": {},
   "outputs": [],
   "source": [
    "grid_search.fit(X_train, y_train)\n",
    "best_model= grid_search.best_estimator_\n",
    "grid_search.best_score_"
   ]
  },
  {
   "cell_type": "code",
   "execution_count": null,
   "metadata": {},
   "outputs": [],
   "source": [
    "best_model[:-1].get_feature_names_out()"
   ]
  },
  {
   "cell_type": "code",
   "execution_count": null,
   "metadata": {},
   "outputs": [],
   "source": [
    "coef=best_model[-1].coef_\n",
    "coef"
   ]
  },
  {
   "cell_type": "code",
   "execution_count": null,
   "metadata": {},
   "outputs": [],
   "source": [
    "coef_df= pd.DataFrame(coef, columns=['coef'] ,index=best_model[:-1].get_feature_names_out())\n",
    "coef_df"
   ]
  },
  {
   "cell_type": "code",
   "execution_count": null,
   "metadata": {},
   "outputs": [],
   "source": [
    "coef_df[coef_df['coef'] != 0].shape[0]"
   ]
  },
  {
   "cell_type": "code",
   "execution_count": null,
   "metadata": {},
   "outputs": [],
   "source": [
    "coef_df[coef_df['coef'] != 0]"
   ]
  },
  {
   "cell_type": "code",
   "execution_count": null,
   "metadata": {},
   "outputs": [],
   "source": [
    "# VIF dataframe\n",
    "vif_data = pd.DataFrame()\n",
    "vif_data[\"feature\"] = newdf.columns\n",
    "  \n",
    "# calculating VIF for each feature\n",
    "vif_data[\"VIF\"] = [vif(newdf, i) for i in range(len(newdf.columns))]\n",
    "\n",
    "print(vif_data)\n",
    "\n",
    "# newdf"
   ]
  }
 ],
 "metadata": {
  "kernelspec": {
   "display_name": "Python 3.9.15 ('data_anayse_env')",
   "language": "python",
   "name": "python3"
  },
  "language_info": {
   "codemirror_mode": {
    "name": "ipython",
    "version": 3
   },
   "file_extension": ".py",
   "mimetype": "text/x-python",
   "name": "python",
   "nbconvert_exporter": "python",
   "pygments_lexer": "ipython3",
   "version": "3.9.15"
  },
  "orig_nbformat": 4,
  "vscode": {
   "interpreter": {
    "hash": "dc0462446127c1e0e542cdab515213248fc91a25e9aea2306dfdc819a792765d"
   }
  }
 },
 "nbformat": 4,
 "nbformat_minor": 2
}
